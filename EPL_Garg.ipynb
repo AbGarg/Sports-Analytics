{
 "cells": [
  {
   "cell_type": "markdown",
   "metadata": {},
   "source": [
    "# CSE-891 PROJECT: IDENTIFYING FACTORS CRITICAL FOR RESULTS IN THE ENGLISH PREMIER LEAGUE GAMES AND FINDING PLAYERS THAT FIT IT"
   ]
  },
  {
   "cell_type": "markdown",
   "metadata": {},
   "source": [
    "I am an avid soccer fan - I play and watch as much as I can. I love the premier league and watch it with fascination. I am not a supporter of any club and just watch teams that catch my eye. For this project, I wanted to see whether I could use implicit statistics (i.e. tackles, interceptions, cards etc.) to understand the outcome. The approach is as follows:\n",
    "1. Gather premier league game data from 2015-2017(Current) seasons. Gather data for each side per game.\n",
    "2. Use classification/regression techniques to predict whether a team will allow gaols or not. Motivation is that a clean sheet guarentees a result.\n",
    "3. Use classification/regression techniques to game outcome - loss vs draw/win\n",
    "4. Use the outcome model to identify players that best fit"
   ]
  },
  {
   "cell_type": "markdown",
   "metadata": {},
   "source": [
    "### IMPORTING NECESSARY LIBRARIES"
   ]
  },
  {
   "cell_type": "markdown",
   "metadata": {},
   "source": [
    "I first import all the necessary libraries required for this notebook. As different parts of the notebook was completed, the libraries were consolidated in this location"
   ]
  },
  {
   "cell_type": "code",
   "execution_count": 1,
   "metadata": {},
   "outputs": [
    {
     "name": "stdout",
     "output_type": "stream",
     "text": [
      "Populating the interactive namespace from numpy and matplotlib\n"
     ]
    }
   ],
   "source": [
    "%pylab inline"
   ]
  },
  {
   "cell_type": "code",
   "execution_count": null,
   "metadata": {},
   "outputs": [],
   "source": [
    "import json\n",
    "import seaborn as sns\n",
    "import pandas as pd\n",
    "import numpy as np\n",
    "import datetime\n",
    "from sklearn.model_selection import train_test_split\n",
    "from sklearn import tree\n",
    "from sklearn.metrics import accuracy_score\n",
    "from sklearn import cross_validation\n",
    "from sklearn.ensemble import RandomForestClassifier, RandomForestRegressor\n",
    "from sklearn import linear_model\n",
    "from sklearn.metrics import confusion_matrix\n",
    "from sklearn.feature_selection import RFE\n",
    "from sklearn.externals.six import StringIO  \n",
    "from IPython.display import Image  \n",
    "from sklearn.tree import export_graphviz\n",
    "import pydotplus"
   ]
  },
  {
   "cell_type": "markdown",
   "metadata": {},
   "source": [
    "The main objectives of this project that I need to show:\n",
    "1. API\n",
    "    1.1 EPL CSV 2015-2017 as Training and 2018 as Test Case\n",
    "    1.2 EPL Players 2018\n",
    "    1.3 LaLiga CSV 2018\n",
    "    1.4 Bundesliga CSV 2018\n",
    "    \n",
    "2. Show data transformation and preprocessing\n",
    "    2.1 Dictionary\n",
    "    2.2 Dictionary to PD\n",
    "    2.3 Changing column types\n",
    "    2.4 Changing to CSV\n",
    "    \n",
    "3. Loading CSV \n",
    "\n",
    "4. Running different regression models\n",
    "\n",
    "5. Finding the best models "
   ]
  },
  {
   "cell_type": "markdown",
   "metadata": {},
   "source": [
    "Getting the EPL 2015-16 season data"
   ]
  },
  {
   "cell_type": "markdown",
   "metadata": {},
   "source": [
    "## DATA EXTRACTION AND PREPROCESSING"
   ]
  },
  {
   "cell_type": "markdown",
   "metadata": {},
   "source": [
    "### This section should be skipped. This is just to show how the data was gathered! Move to section Data Gathering!"
   ]
  },
  {
   "cell_type": "markdown",
   "metadata": {},
   "source": [
    "I create a function that I need to loop through dates. I require this for the API which gathers data for games based on dates. The daterange function uses 2 inputs: start and end date. It then calculates all the dates in between those with a step of 1 day until the end. The start date takes year, month and day as numerical arguments."
   ]
  },
  {
   "cell_type": "code",
   "execution_count": null,
   "metadata": {},
   "outputs": [],
   "source": [
    "#create date function to loop through the API, it takes the start and end date as input\n",
    "def daterange( start_date, end_date ):\n",
    "    if start_date <= end_date:\n",
    "        for n in range( ( end_date - start_date ).days + 1 ):\n",
    "            yield start_date + datetime.timedelta( n )\n",
    "    else:\n",
    "        for n in range( ( start_date - end_date ).days + 1 ):\n",
    "            yield start_date - datetime.timedelta( n )\n"
   ]
  },
  {
   "cell_type": "markdown",
   "metadata": {},
   "source": [
    "I create 3 empty pandas data frames to store all the games from the 2015-2017 seasons."
   ]
  },
  {
   "cell_type": "code",
   "execution_count": null,
   "metadata": {},
   "outputs": [],
   "source": [
    "#initialize empty dataframes\n",
    "epl_15_16=pd.DataFrame()\n",
    "epl_16_17=pd.DataFrame()\n",
    "#create empty data frame for 2017-18 data\n",
    "FullData17_18=pd.DataFrame()"
   ]
  },
  {
   "cell_type": "markdown",
   "metadata": {},
   "source": [
    "I extracted data for all the games from 2015-2017 seasons using the FantasyData API. The data was downloaded in JSON, converted to dictionary and then to pandas df. I found the rest of the information needed from this API and stored everything in separate CSV files."
   ]
  },
  {
   "cell_type": "markdown",
   "metadata": {},
   "source": [
    "Round Id Information from API:\n",
    "\n",
    "For 2015/16 EPL - 1 \n",
    "\n",
    "For 2016/17 EPL - 73 \n",
    "\n",
    "For 2017/18 EPL - 144 \n",
    "\n",
    "For 2017/18 LaLiga - 182 \n",
    "\n",
    "For 2017/18 Bundesliga - 145"
   ]
  },
  {
   "cell_type": "markdown",
   "metadata": {},
   "source": [
    "The function specified below takes a df and changes the values in the labels. I have three labels:\n",
    "1. goal_against_label - 1 if goal was allowed, 0 if goal wasn't\n",
    "2. GA_unique_label - value of goals allowed upto less than 3, then everything is 3\n",
    "3. Goals - value of goals scored upto less than 3, then everything is 3\n",
    "\n",
    "The 3 value was selected based on density distribution of these labels shown in the exploration section"
   ]
  },
  {
   "cell_type": "code",
   "execution_count": null,
   "metadata": {},
   "outputs": [],
   "source": [
    "#function for goal against, if goal is conceded,, then 0 else 1\n",
    "def goalagainst(df):\n",
    "    for i in range(len(df)):\n",
    "        pd.options.mode.chained_assignment = None\n",
    "        if df['GoalkeeperGoalsAgainst'][i]<1:\n",
    "            df['goal_against_label'][i]=0\n",
    "        else:\n",
    "            df['goal_against_label'][i]=1\n",
    "\n",
    "#function for goal against, if goal is conceded then 0,1,2 depending on how many, else 3 \n",
    "def goalagainstunique(df):\n",
    "    for i in range(len(df)):\n",
    "        pd.options.mode.chained_assignment = None\n",
    "        if df['GoalkeeperGoalsAgainst'][i]<3:\n",
    "            df['GA_unique_label'][i]=df['GoalkeeperGoalsAgainst'][i]\n",
    "        else:\n",
    "            df['GA_unique_label'][i]=3          \n",
    "#function for goal scored, if goal is scored then 0,1,2 depending on how many, else 3             \n",
    "def goals(df):    \n",
    "    for i in range(len(df)):\n",
    "        pd.options.mode.chained_assignment = None\n",
    "        if df['Goals'][i]<3:\n",
    "            df['goal_label'][i]=df['Goals'][i]\n",
    "        else:\n",
    "            df['goal_label'][i]=3"
   ]
  },
  {
   "cell_type": "markdown",
   "metadata": {},
   "source": [
    "I run the functions on the three datasets of concern and then store the data into csv for later use"
   ]
  },
  {
   "cell_type": "code",
   "execution_count": null,
   "metadata": {},
   "outputs": [],
   "source": [
    "#run the above functions on the 2015, 16, 17 premier league data\n",
    "goalagainst(epl_15_16_Final)\n",
    "goalagainst(epl_16_17_Final)\n",
    "goalagainst(FullData17_18_Final)\n",
    "\n",
    "goalagainstunique(epl_15_16_Final)\n",
    "goalagainstunique(epl_16_17_Final)\n",
    "goalagainstunique(FullData17_18_Final)\n",
    "\n",
    "goals(epl_15_16_Final)\n",
    "goals(epl_16_17_Final)\n",
    "goals(FullData17_18_Final)\n"
   ]
  },
  {
   "cell_type": "code",
   "execution_count": null,
   "metadata": {},
   "outputs": [],
   "source": [
    "#save the data into csv again\n",
    "epl_15_16_Final.to_csv('Data_1516.csv')\n",
    "epl_16_17_Final.to_csv('Data_1617.csv')\n",
    "FullData17_18_Final.to_csv('Data_1718.csv')"
   ]
  },
  {
   "cell_type": "code",
   "execution_count": null,
   "metadata": {},
   "outputs": [],
   "source": [
    "#looking at all the statistics I have to work with \n",
    "array(FullData17_18_Final.columns.values)"
   ]
  },
  {
   "cell_type": "markdown",
   "metadata": {},
   "source": [
    "# DATA GATHERING "
   ]
  },
  {
   "cell_type": "code",
   "execution_count": 9,
   "metadata": {},
   "outputs": [],
   "source": [
    "#read the data into pandas df\n",
    "epl_15_16_Final=pd.read_csv('Data_1516.csv')\n",
    "epl_16_17_Final=pd.read_csv('Data_1617.csv')\n",
    "FullData17_18_Final=pd.read_csv('Data_1718.csv')"
   ]
  },
  {
   "cell_type": "markdown",
   "metadata": {},
   "source": [
    "The data set for the 3 seasons contains games for all leagues. I am only interested in the english premier league as the style of play differs depening on the leagues. I use the loc function to look for all games with RoundID=1 which refers to (EPL, 15/16 season). I then select only the columns of interest (int columns) and labels. I do this for all three seasons and then verify my results. Each season 380 games are played and per game I should have 2 rows (one for each team). For 17/18 season, 354 games have been played as of May 1, 2018."
   ]
  },
  {
   "cell_type": "code",
   "execution_count": 12,
   "metadata": {},
   "outputs": [
    {
     "name": "stdout",
     "output_type": "stream",
     "text": [
      "760\n",
      "760\n",
      "708\n"
     ]
    }
   ],
   "source": [
    "#Data updated as of May 1, 2018\n",
    "EPL_2015_2016=epl_15_16_Final.loc[epl_15_16_Final['RoundId']==1]\n",
    "EPL_2015_2016=EPL_2015_2016[['Assists', 'BlockedShots', 'CornersWon', 'Crosses','Fouled', \n",
    "                             'Fouls','GoalkeeperSaves','Goals', 'Interceptions', 'LastManTackle',\n",
    "                             'Offsides', 'Passes','PassesCompleted', 'PenaltiesConceded', \n",
    "                             'PenaltiesWon', 'PenaltyKickMisses', 'PenaltyKickSaves','RedCards',\n",
    "                             'Shots', 'ShotsOnGoal','TacklesWon','Touches','YellowCards',\n",
    "                             'goal_against_label','GA_unique_label', 'goal_label']]\n",
    "print(len(EPL_2015_2016))#verified the data\n",
    "\n",
    "EPL_2016_2017=epl_16_17_Final.loc[epl_16_17_Final['RoundId']==73]\n",
    "EPL_2016_2017=EPL_2016_2017[['Assists', 'BlockedShots', 'CornersWon', 'Crosses','Fouled', \n",
    "                             'Fouls','GoalkeeperSaves','Goals', 'Interceptions', 'LastManTackle',\n",
    "                             'Offsides', 'Passes','PassesCompleted', 'PenaltiesConceded', \n",
    "                             'PenaltiesWon', 'PenaltyKickMisses', 'PenaltyKickSaves','RedCards',\n",
    "                             'Shots', 'ShotsOnGoal','TacklesWon','Touches','YellowCards',\n",
    "                             'goal_against_label','GA_unique_label', 'goal_label']]\n",
    "print(len(EPL_2016_2017))#verified the data\n",
    "\n",
    "EPL_2017_2018=FullData17_18_Final.loc[FullData17_18_Final['RoundId']==144]\n",
    "EPL_2017_2018=EPL_2017_2018[['Assists', 'BlockedShots', 'CornersWon', 'Crosses','Fouled', \n",
    "                             'Fouls','GoalkeeperSaves','Goals', 'Interceptions', 'LastManTackle',\n",
    "                             'Offsides', 'Passes','PassesCompleted', 'PenaltiesConceded', \n",
    "                             'PenaltiesWon', 'PenaltyKickMisses', 'PenaltyKickSaves','RedCards',\n",
    "                             'Shots', 'ShotsOnGoal','TacklesWon','Touches','YellowCards',\n",
    "                             'goal_against_label','GA_unique_label', 'goal_label']]\n",
    "print(len(EPL_2017_2018)) #verified the data\n"
   ]
  },
  {
   "cell_type": "markdown",
   "metadata": {},
   "source": [
    "I create another dataset using the approach above. These ones I will use to classify wins/losses later."
   ]
  },
  {
   "cell_type": "code",
   "execution_count": 13,
   "metadata": {},
   "outputs": [],
   "source": [
    "EPL_2017_2018_all=FullData17_18_Final.loc[FullData17_18_Final['RoundId']==144]\n",
    "EPL_2017_2018_WL=EPL_2017_2018_all[['Assists', 'BlockedShots', 'CornersWon', 'Crosses','Fouled', \n",
    "                             'Fouls','GoalkeeperGoalsAgainst','GoalkeeperSaves','Goals', 'Interceptions', 'LastManTackle',\n",
    "                             'Offsides', 'Passes','PassesCompleted', 'PenaltiesConceded', \n",
    "                             'PenaltiesWon', 'PenaltyKickMisses', 'PenaltyKickSaves','RedCards',\n",
    "                             'Shots', 'ShotsOnGoal','TacklesWon','Touches','YellowCards',\n",
    "                             'goal_against_label','GA_unique_label', 'goal_label']]\n",
    "\n",
    "EPL_2015_2016_all=epl_15_16_Final.loc[epl_15_16_Final['RoundId']==1]\n",
    "EPL_2015_2016_WL=EPL_2015_2016_all[['Assists', 'BlockedShots', 'CornersWon', 'Crosses','Fouled', \n",
    "                             'Fouls','GoalkeeperGoalsAgainst','GoalkeeperSaves','Goals', 'Interceptions', 'LastManTackle',\n",
    "                             'Offsides', 'Passes','PassesCompleted', 'PenaltiesConceded', \n",
    "                             'PenaltiesWon', 'PenaltyKickMisses', 'PenaltyKickSaves','RedCards',\n",
    "                             'Shots', 'ShotsOnGoal','TacklesWon','Touches','YellowCards',\n",
    "                             'goal_against_label','GA_unique_label', 'goal_label']]\n"
   ]
  },
  {
   "cell_type": "markdown",
   "metadata": {},
   "source": [
    "# DATA EXPLORATION"
   ]
  },
  {
   "cell_type": "markdown",
   "metadata": {},
   "source": [
    "I use a histogram with a density to see the density distribution of goals scored per game in 17/18 season. About 85% of the time, 2 or less goals are scored by a team in a game."
   ]
  },
  {
   "cell_type": "code",
   "execution_count": 14,
   "metadata": {},
   "outputs": [
    {
     "data": {
      "text/plain": [
       "Text(0,0.5,'Density')"
      ]
     },
     "execution_count": 14,
     "metadata": {},
     "output_type": "execute_result"
    },
    {
     "data": {
      "image/png": "[encoded data removed]",
      "text/plain": [
       "<matplotlib.figure.Figure at 0x10d91d860>"
      ]
     },
     "metadata": {},
     "output_type": "display_data"
    }
   ],
   "source": [
    "EPL_2017_2018_WL.Goals.hist(density=True, cumulative=True)\n",
    "plt.title('Cumulative Density Curve of Goals per Game Scored 2017-18 Season')\n",
    "plt.xlabel('Goals Scored per Game')\n",
    "plt.ylabel('Density')"
   ]
  },
  {
   "cell_type": "markdown",
   "metadata": {},
   "source": [
    "I use a histogram with a density to see the density distribution of goals allowed per game in 17/18 season. About 85% of the time, 2 or less goals are conceded by a team in a game."
   ]
  },
  {
   "cell_type": "code",
   "execution_count": 15,
   "metadata": {},
   "outputs": [
    {
     "data": {
      "text/plain": [
       "Text(0,0.5,'Density')"
      ]
     },
     "execution_count": 15,
     "metadata": {},
     "output_type": "execute_result"
    },
    {
     "data": {
      "image/png": "[encoded data removed]",
      "text/plain": [
       "<matplotlib.figure.Figure at 0x10dd12208>"
      ]
     },
     "metadata": {},
     "output_type": "display_data"
    }
   ],
   "source": [
    "EPL_2017_2018_WL.GoalkeeperGoalsAgainst.hist(density=True, cumulative=True)\n",
    "plt.title('Cumulative Density Curve of Goals Allowed per Game 2017-18 Season')\n",
    "plt.xlabel('Goals Scored per Game')\n",
    "plt.ylabel('Density')"
   ]
  },
  {
   "cell_type": "markdown",
   "metadata": {},
   "source": [
    "I wanted to check the frequency of labels for goal against. I conclude that the data and therefore outcomes are imbalanced. There are way more games where a goal is scored as opposed to games where a goal is not scored"
   ]
  },
  {
   "cell_type": "code",
   "execution_count": 16,
   "metadata": {},
   "outputs": [
    {
     "data": {
      "text/plain": [
       "Text(0,0.5,'Frequency')"
      ]
     },
     "execution_count": 16,
     "metadata": {},
     "output_type": "execute_result"
    },
    {
     "data": {
      "image/png": "[encoded data removed]",
      "text/plain": [
       "<matplotlib.figure.Figure at 0x10dd8f1d0>"
      ]
     },
     "metadata": {},
     "output_type": "display_data"
    }
   ],
   "source": [
    "sns.countplot(x='goal_against_label',data=EPL_2017_2018_WL)\n",
    "plt.title('Frequency of Goals Scored 2017-18 Season')\n",
    "plt.xlabel('Goals Scored')\n",
    "plt.ylabel('Frequency')"
   ]
  },
  {
   "cell_type": "markdown",
   "metadata": {},
   "source": [
    "Visualization of the count by label for 2017/18 premier leagues season"
   ]
  },
  {
   "cell_type": "code",
   "execution_count": 17,
   "metadata": {},
   "outputs": [
    {
     "data": {
      "text/plain": [
       "Text(0,0.5,'Frequency')"
      ]
     },
     "execution_count": 17,
     "metadata": {},
     "output_type": "execute_result"
    },
    {
     "data": {
      "image/png": "[encoded data removed]",
      "text/plain": [
       "<matplotlib.figure.Figure at 0x10dccb400>"
      ]
     },
     "metadata": {},
     "output_type": "display_data"
    }
   ],
   "source": [
    "sns.countplot(x='goal_label',data=EPL_2017_2018_WL)\n",
    "plt.title('Frequency of Goals Scored 2017-18 Season')\n",
    "plt.xlabel('Goals Scored')\n",
    "plt.ylabel('Frequency')"
   ]
  },
  {
   "cell_type": "markdown",
   "metadata": {},
   "source": [
    "## REGRESSION ANALYSIS AND MODEL SELECTION FOR PREDICTIONS"
   ]
  },
  {
   "cell_type": "markdown",
   "metadata": {},
   "source": [
    "### PREDICTING CLEAN SHEETS"
   ]
  },
  {
   "cell_type": "markdown",
   "metadata": {},
   "source": [
    "After preparing my datasets, I run some classification to see how accurately I can predict clean sheets (i.e. a team concedes 0 goals)\n",
    "The approach is as follows:\n",
    "1. Start with 2015/16 data and split into train/test sets\n",
    "2. Run various regression and classification models and find the best\n",
    "3. Use the entire 2015/16 data as training set to check accuracy on the 2017-18 data.\n",
    "4. Optimize the model \n",
    "\n"
   ]
  },
  {
   "cell_type": "markdown",
   "metadata": {},
   "source": [
    "I start by creating my X matrix (predictors) and Y(outcome). I split the dataset into test and train using the function below. I try:\n",
    "    1. Logistic Regression\n",
    "    2. Decision Tree\n",
    "    3. Random Forest"
   ]
  },
  {
   "cell_type": "code",
   "execution_count": 18,
   "metadata": {},
   "outputs": [],
   "source": [
    "X = EPL_2015_2016.drop(columns=['goal_against_label','goal_label','GA_unique_label'])\n",
    "y = EPL_2015_2016['goal_against_label']\n",
    "\n",
    "X_train, X_test, y_train, y_test = train_test_split(X, y, random_state=1)"
   ]
  },
  {
   "cell_type": "markdown",
   "metadata": {},
   "source": [
    "I define my models here for each classifier"
   ]
  },
  {
   "cell_type": "code",
   "execution_count": 19,
   "metadata": {},
   "outputs": [],
   "source": [
    "logreg = linear_model.LogisticRegression()\n",
    "dectree = tree.DecisionTreeClassifier()\n",
    "random_forest = RandomForestClassifier(n_estimators=30, max_depth=10, random_state=1)"
   ]
  },
  {
   "cell_type": "markdown",
   "metadata": {},
   "source": [
    "I train a logistic regression model with the training set and make predictions with the test dataset. The outcome is 57.4% accuracy. More interestingly, 1 is easier and better to predict than 0. I create a confusion matrix to visualize the accuracy of different outcomes. "
   ]
  },
  {
   "cell_type": "code",
   "execution_count": 20,
   "metadata": {},
   "outputs": [
    {
     "name": "stdout",
     "output_type": "stream",
     "text": [
      "0.568\n"
     ]
    },
    {
     "data": {
      "text/html": [
       "<div>\n",
       "<style scoped>\n",
       "    .dataframe tbody tr th:only-of-type {\n",
       "        vertical-align: middle;\n",
       "    }\n",
       "\n",
       "    .dataframe tbody tr th {\n",
       "        vertical-align: top;\n",
       "    }\n",
       "\n",
       "    .dataframe thead th {\n",
       "        text-align: right;\n",
       "    }\n",
       "</style>\n",
       "<table border=\"1\" class=\"dataframe\">\n",
       "  <thead>\n",
       "    <tr style=\"text-align: right;\">\n",
       "      <th></th>\n",
       "      <th>Predicted 0</th>\n",
       "      <th>Predicted 1</th>\n",
       "    </tr>\n",
       "  </thead>\n",
       "  <tbody>\n",
       "    <tr>\n",
       "      <th>True 0</th>\n",
       "      <td>10</td>\n",
       "      <td>60</td>\n",
       "    </tr>\n",
       "    <tr>\n",
       "      <th>True 1</th>\n",
       "      <td>22</td>\n",
       "      <td>98</td>\n",
       "    </tr>\n",
       "  </tbody>\n",
       "</table>\n",
       "</div>"
      ],
      "text/plain": [
       "        Predicted 0  Predicted 1\n",
       "True 0           10           60\n",
       "True 1           22           98"
      ]
     },
     "execution_count": 20,
     "metadata": {},
     "output_type": "execute_result"
    }
   ],
   "source": [
    "logreg.fit(X_train,y_train)\n",
    "y_predict = logreg.predict(X_test)\n",
    "print(round(accuracy_score(y_test, y_predict),3))\n",
    "\n",
    "pd.DataFrame(\n",
    "    confusion_matrix(y_test, y_predict),\n",
    "    columns=['Predicted 0', 'Predicted 1'],\n",
    "    index=['True 0', 'True 1'])"
   ]
  },
  {
   "cell_type": "markdown",
   "metadata": {},
   "source": [
    "I train a decision tree with the training set and make predictions with the test dataset. The outcome is 53.2% accuracy. More interestingly, 1 is easier and better to predict than 0. I create a confusion matrix to visualize the accuracy of different outcomes. "
   ]
  },
  {
   "cell_type": "code",
   "execution_count": 21,
   "metadata": {},
   "outputs": [
    {
     "name": "stdout",
     "output_type": "stream",
     "text": [
      "0.547\n"
     ]
    },
    {
     "data": {
      "text/html": [
       "<div>\n",
       "<style scoped>\n",
       "    .dataframe tbody tr th:only-of-type {\n",
       "        vertical-align: middle;\n",
       "    }\n",
       "\n",
       "    .dataframe tbody tr th {\n",
       "        vertical-align: top;\n",
       "    }\n",
       "\n",
       "    .dataframe thead th {\n",
       "        text-align: right;\n",
       "    }\n",
       "</style>\n",
       "<table border=\"1\" class=\"dataframe\">\n",
       "  <thead>\n",
       "    <tr style=\"text-align: right;\">\n",
       "      <th></th>\n",
       "      <th>Predicted 0</th>\n",
       "      <th>Predicted 1</th>\n",
       "    </tr>\n",
       "  </thead>\n",
       "  <tbody>\n",
       "    <tr>\n",
       "      <th>True 0</th>\n",
       "      <td>27</td>\n",
       "      <td>43</td>\n",
       "    </tr>\n",
       "    <tr>\n",
       "      <th>True 1</th>\n",
       "      <td>43</td>\n",
       "      <td>77</td>\n",
       "    </tr>\n",
       "  </tbody>\n",
       "</table>\n",
       "</div>"
      ],
      "text/plain": [
       "        Predicted 0  Predicted 1\n",
       "True 0           27           43\n",
       "True 1           43           77"
      ]
     },
     "execution_count": 21,
     "metadata": {},
     "output_type": "execute_result"
    }
   ],
   "source": [
    "dectree.fit(X_train,y_train)\n",
    "y_predict = dectree.predict(X_test)\n",
    "print(round(accuracy_score(y_test, y_predict),3))\n",
    "pd.DataFrame(\n",
    "    confusion_matrix(y_test, y_predict),\n",
    "    columns=['Predicted 0', 'Predicted 1'],\n",
    "    index=['True 0', 'True 1'])"
   ]
  },
  {
   "cell_type": "markdown",
   "metadata": {},
   "source": [
    "I train a random forest classifier model with the training set and make predictions with the test dataset. The outcome is 61.1% accuracy. The random forest produces the best results for me. "
   ]
  },
  {
   "cell_type": "code",
   "execution_count": 22,
   "metadata": {},
   "outputs": [
    {
     "name": "stdout",
     "output_type": "stream",
     "text": [
      "0.611\n"
     ]
    },
    {
     "data": {
      "text/html": [
       "<div>\n",
       "<style scoped>\n",
       "    .dataframe tbody tr th:only-of-type {\n",
       "        vertical-align: middle;\n",
       "    }\n",
       "\n",
       "    .dataframe tbody tr th {\n",
       "        vertical-align: top;\n",
       "    }\n",
       "\n",
       "    .dataframe thead th {\n",
       "        text-align: right;\n",
       "    }\n",
       "</style>\n",
       "<table border=\"1\" class=\"dataframe\">\n",
       "  <thead>\n",
       "    <tr style=\"text-align: right;\">\n",
       "      <th></th>\n",
       "      <th>Predicted 0</th>\n",
       "      <th>Predicted 1</th>\n",
       "    </tr>\n",
       "  </thead>\n",
       "  <tbody>\n",
       "    <tr>\n",
       "      <th>True 0</th>\n",
       "      <td>8</td>\n",
       "      <td>62</td>\n",
       "    </tr>\n",
       "    <tr>\n",
       "      <th>True 1</th>\n",
       "      <td>12</td>\n",
       "      <td>108</td>\n",
       "    </tr>\n",
       "  </tbody>\n",
       "</table>\n",
       "</div>"
      ],
      "text/plain": [
       "        Predicted 0  Predicted 1\n",
       "True 0            8           62\n",
       "True 1           12          108"
      ]
     },
     "execution_count": 22,
     "metadata": {},
     "output_type": "execute_result"
    }
   ],
   "source": [
    "random_forest.fit(X_train,y_train)\n",
    "y_predict = random_forest.predict(X_test)\n",
    "print(round(accuracy_score(y_test, y_predict),3))\n",
    "pd.DataFrame(\n",
    "    confusion_matrix(y_test, y_predict),\n",
    "    columns=['Predicted 0', 'Predicted 1'],\n",
    "    index=['True 0', 'True 1'])"
   ]
  },
  {
   "cell_type": "markdown",
   "metadata": {},
   "source": [
    "I utilize the models on 2016/17 and 2017/18 data and results are consistent. Random forest is the best model. The accuracy is as follows:\n",
    "\n",
    "LogReg - 0.72 \n",
    "\n",
    "Decision Tree Classifier - 0.63\n",
    "\n",
    "Random Forest - 0.72"
   ]
  },
  {
   "cell_type": "markdown",
   "metadata": {},
   "source": [
    "#### Random Forest Performs best for all years. However, all the models are equally bad at predicting 0 goals while really good at predicting goals scored. I have narrowed the scope on to random forest and will to optimize the random forest"
   ]
  },
  {
   "cell_type": "markdown",
   "metadata": {},
   "source": [
    "I first create a large training data set by combining the 2015/16 and 2016/17 data. With a large training dataset, I expect to train with a variety of outcomes."
   ]
  },
  {
   "cell_type": "code",
   "execution_count": 23,
   "metadata": {},
   "outputs": [],
   "source": [
    "big=EPL_2015_2016.append(EPL_2016_2017,ignore_index=True)\n",
    "X_big = big.drop(columns=['goal_against_label','goal_label','GA_unique_label'])\n",
    "y_big = big['goal_against_label']"
   ]
  },
  {
   "cell_type": "code",
   "execution_count": 24,
   "metadata": {},
   "outputs": [
    {
     "name": "stdout",
     "output_type": "stream",
     "text": [
      "1520\n"
     ]
    }
   ],
   "source": [
    "print(len(X_big))\n",
    "X1_train,X1_test,y1_train,y1_test=train_test_split(X_big,y_big,stratify=y_big)"
   ]
  },
  {
   "cell_type": "markdown",
   "metadata": {},
   "source": [
    "My test dataset will be the 2017/18 data"
   ]
  },
  {
   "cell_type": "code",
   "execution_count": 25,
   "metadata": {},
   "outputs": [],
   "source": [
    "X_final = EPL_2017_2018.drop(columns=['goal_against_label','goal_label','GA_unique_label'])\n",
    "y_final = EPL_2017_2018['goal_against_label']"
   ]
  },
  {
   "cell_type": "markdown",
   "metadata": {},
   "source": [
    "Fitting the random forest to the 2017/18 data produces an accuracy of 67%. Here i try to use a set of parameters within the random forest classifier that would best predict the desired outcome."
   ]
  },
  {
   "cell_type": "code",
   "execution_count": 26,
   "metadata": {},
   "outputs": [
    {
     "name": "stdout",
     "output_type": "stream",
     "text": [
      "0.668\n"
     ]
    },
    {
     "data": {
      "text/html": [
       "<div>\n",
       "<style scoped>\n",
       "    .dataframe tbody tr th:only-of-type {\n",
       "        vertical-align: middle;\n",
       "    }\n",
       "\n",
       "    .dataframe tbody tr th {\n",
       "        vertical-align: top;\n",
       "    }\n",
       "\n",
       "    .dataframe thead th {\n",
       "        text-align: right;\n",
       "    }\n",
       "</style>\n",
       "<table border=\"1\" class=\"dataframe\">\n",
       "  <thead>\n",
       "    <tr style=\"text-align: right;\">\n",
       "      <th></th>\n",
       "      <th>Predicted 0</th>\n",
       "      <th>Predicted 1</th>\n",
       "    </tr>\n",
       "  </thead>\n",
       "  <tbody>\n",
       "    <tr>\n",
       "      <th>True 0</th>\n",
       "      <td>6</td>\n",
       "      <td>117</td>\n",
       "    </tr>\n",
       "    <tr>\n",
       "      <th>True 1</th>\n",
       "      <td>9</td>\n",
       "      <td>248</td>\n",
       "    </tr>\n",
       "  </tbody>\n",
       "</table>\n",
       "</div>"
      ],
      "text/plain": [
       "        Predicted 0  Predicted 1\n",
       "True 0            6          117\n",
       "True 1            9          248"
      ]
     },
     "execution_count": 26,
     "metadata": {},
     "output_type": "execute_result"
    }
   ],
   "source": [
    "forest = RandomForestClassifier(n_estimators=30, max_depth=5, random_state=42)\n",
    "forest.fit(X1_train,y1_train)\n",
    "y_predict = forest.predict(X1_test)\n",
    "print(round(accuracy_score(y1_test, y_predict),3))\n",
    "pd.DataFrame(\n",
    "    confusion_matrix(y1_test, y_predict),\n",
    "    columns=['Predicted 0', 'Predicted 1'],\n",
    "    index=['True 0', 'True 1'])"
   ]
  },
  {
   "cell_type": "markdown",
   "metadata": {},
   "source": [
    "The goal now is to optimize the random forest model. I start with feature selection to remove the undesired predictors and focus on the best possible set of predictors. This is also important as a less number of variables will make it easy for me to select players later. To do this, I use the RFE function within Sklearn library which essentially uses backward elimination to provide the predictors that best suit the model. It then provides me the support and ranking for the different predictors"
   ]
  },
  {
   "cell_type": "code",
   "execution_count": 27,
   "metadata": {},
   "outputs": [
    {
     "name": "stdout",
     "output_type": "stream",
     "text": [
      "[False False  True  True False False False False  True False False  True\n",
      "  True  True False False False False  True  True  True  True  True]\n",
      "[ 8  7  1  1  4  2  3  6  1  9  5  1  1  1 12 13 11 10  1  1  1  1  1]\n"
     ]
    }
   ],
   "source": [
    "rfe = RFE(forest)\n",
    "rfe = rfe.fit(X_big,y_big)\n",
    "print(rfe.support_)\n",
    "print(rfe.ranking_)\n"
   ]
  },
  {
   "cell_type": "markdown",
   "metadata": {},
   "source": [
    "I drop the False terms and continue with the selected terms. "
   ]
  },
  {
   "cell_type": "code",
   "execution_count": 28,
   "metadata": {},
   "outputs": [
    {
     "data": {
      "text/html": [
       "<div>\n",
       "<style scoped>\n",
       "    .dataframe tbody tr th:only-of-type {\n",
       "        vertical-align: middle;\n",
       "    }\n",
       "\n",
       "    .dataframe tbody tr th {\n",
       "        vertical-align: top;\n",
       "    }\n",
       "\n",
       "    .dataframe thead th {\n",
       "        text-align: right;\n",
       "    }\n",
       "</style>\n",
       "<table border=\"1\" class=\"dataframe\">\n",
       "  <thead>\n",
       "    <tr style=\"text-align: right;\">\n",
       "      <th></th>\n",
       "      <th>CornersWon</th>\n",
       "      <th>Crosses</th>\n",
       "      <th>Interceptions</th>\n",
       "      <th>Passes</th>\n",
       "      <th>PassesCompleted</th>\n",
       "      <th>PenaltiesConceded</th>\n",
       "      <th>Shots</th>\n",
       "      <th>ShotsOnGoal</th>\n",
       "      <th>TacklesWon</th>\n",
       "      <th>Touches</th>\n",
       "      <th>YellowCards</th>\n",
       "    </tr>\n",
       "  </thead>\n",
       "  <tbody>\n",
       "    <tr>\n",
       "      <th>0</th>\n",
       "      <td>1</td>\n",
       "      <td>4</td>\n",
       "      <td>33</td>\n",
       "      <td>385</td>\n",
       "      <td>302</td>\n",
       "      <td>0</td>\n",
       "      <td>7</td>\n",
       "      <td>0</td>\n",
       "      <td>13</td>\n",
       "      <td>0</td>\n",
       "      <td>0</td>\n",
       "    </tr>\n",
       "    <tr>\n",
       "      <th>1</th>\n",
       "      <td>7</td>\n",
       "      <td>12</td>\n",
       "      <td>18</td>\n",
       "      <td>763</td>\n",
       "      <td>689</td>\n",
       "      <td>0</td>\n",
       "      <td>13</td>\n",
       "      <td>5</td>\n",
       "      <td>12</td>\n",
       "      <td>0</td>\n",
       "      <td>1</td>\n",
       "    </tr>\n",
       "    <tr>\n",
       "      <th>2</th>\n",
       "      <td>10</td>\n",
       "      <td>32</td>\n",
       "      <td>7</td>\n",
       "      <td>618</td>\n",
       "      <td>551</td>\n",
       "      <td>0</td>\n",
       "      <td>19</td>\n",
       "      <td>5</td>\n",
       "      <td>18</td>\n",
       "      <td>0</td>\n",
       "      <td>2</td>\n",
       "    </tr>\n",
       "    <tr>\n",
       "      <th>3</th>\n",
       "      <td>3</td>\n",
       "      <td>13</td>\n",
       "      <td>14</td>\n",
       "      <td>376</td>\n",
       "      <td>305</td>\n",
       "      <td>0</td>\n",
       "      <td>21</td>\n",
       "      <td>11</td>\n",
       "      <td>18</td>\n",
       "      <td>0</td>\n",
       "      <td>1</td>\n",
       "    </tr>\n",
       "    <tr>\n",
       "      <th>4</th>\n",
       "      <td>4</td>\n",
       "      <td>13</td>\n",
       "      <td>20</td>\n",
       "      <td>454</td>\n",
       "      <td>375</td>\n",
       "      <td>0</td>\n",
       "      <td>5</td>\n",
       "      <td>2</td>\n",
       "      <td>10</td>\n",
       "      <td>0</td>\n",
       "      <td>1</td>\n",
       "    </tr>\n",
       "  </tbody>\n",
       "</table>\n",
       "</div>"
      ],
      "text/plain": [
       "   CornersWon  Crosses  Interceptions  Passes  PassesCompleted  \\\n",
       "0           1        4             33     385              302   \n",
       "1           7       12             18     763              689   \n",
       "2          10       32              7     618              551   \n",
       "3           3       13             14     376              305   \n",
       "4           4       13             20     454              375   \n",
       "\n",
       "   PenaltiesConceded  Shots  ShotsOnGoal  TacklesWon  Touches  YellowCards  \n",
       "0                  0      7            0          13        0            0  \n",
       "1                  0     13            5          12        0            1  \n",
       "2                  0     19            5          18        0            2  \n",
       "3                  0     21           11          18        0            1  \n",
       "4                  0      5            2          10        0            1  "
      ]
     },
     "execution_count": 28,
     "metadata": {},
     "output_type": "execute_result"
    }
   ],
   "source": [
    "X1_big_new=X_big.iloc[:, [2,3,8,11,12,13,18,19,20,21,22]]\n",
    "X1_big_new.head()\n"
   ]
  },
  {
   "cell_type": "markdown",
   "metadata": {},
   "source": [
    "I run the random forest again and get an accuracy of 66%, only 1% lower but way less predictors. I also noticed the impact of the number of estimators and max depth that i use. "
   ]
  },
  {
   "cell_type": "code",
   "execution_count": 29,
   "metadata": {},
   "outputs": [
    {
     "name": "stdout",
     "output_type": "stream",
     "text": [
      "0.703\n"
     ]
    },
    {
     "data": {
      "text/html": [
       "<div>\n",
       "<style scoped>\n",
       "    .dataframe tbody tr th:only-of-type {\n",
       "        vertical-align: middle;\n",
       "    }\n",
       "\n",
       "    .dataframe tbody tr th {\n",
       "        vertical-align: top;\n",
       "    }\n",
       "\n",
       "    .dataframe thead th {\n",
       "        text-align: right;\n",
       "    }\n",
       "</style>\n",
       "<table border=\"1\" class=\"dataframe\">\n",
       "  <thead>\n",
       "    <tr style=\"text-align: right;\">\n",
       "      <th></th>\n",
       "      <th>Predicted 0</th>\n",
       "      <th>Predicted 1</th>\n",
       "    </tr>\n",
       "  </thead>\n",
       "  <tbody>\n",
       "    <tr>\n",
       "      <th>True 0</th>\n",
       "      <td>12</td>\n",
       "      <td>111</td>\n",
       "    </tr>\n",
       "    <tr>\n",
       "      <th>True 1</th>\n",
       "      <td>2</td>\n",
       "      <td>255</td>\n",
       "    </tr>\n",
       "  </tbody>\n",
       "</table>\n",
       "</div>"
      ],
      "text/plain": [
       "        Predicted 0  Predicted 1\n",
       "True 0           12          111\n",
       "True 1            2          255"
      ]
     },
     "execution_count": 29,
     "metadata": {},
     "output_type": "execute_result"
    }
   ],
   "source": [
    "X1_train,X1_test,y1_train,y1_test=train_test_split(X1_big_new,y_big,stratify=y_big)\n",
    "forest = RandomForestClassifier(n_estimators=30, max_depth=5, random_state=42)\n",
    "forest.fit(X1_train,y1_train)\n",
    "y_predict = forest.predict(X1_test)\n",
    "print(round(accuracy_score(y1_test, y_predict),3))\n",
    "pd.DataFrame(\n",
    "    confusion_matrix(y1_test, y_predict),\n",
    "    columns=['Predicted 0', 'Predicted 1'],\n",
    "    index=['True 0', 'True 1'])"
   ]
  },
  {
   "cell_type": "code",
   "execution_count": 30,
   "metadata": {},
   "outputs": [
    {
     "data": {
      "text/html": [
       "<div>\n",
       "<style scoped>\n",
       "    .dataframe tbody tr th:only-of-type {\n",
       "        vertical-align: middle;\n",
       "    }\n",
       "\n",
       "    .dataframe tbody tr th {\n",
       "        vertical-align: top;\n",
       "    }\n",
       "\n",
       "    .dataframe thead th {\n",
       "        text-align: right;\n",
       "    }\n",
       "</style>\n",
       "<table border=\"1\" class=\"dataframe\">\n",
       "  <thead>\n",
       "    <tr style=\"text-align: right;\">\n",
       "      <th></th>\n",
       "      <th>CornersWon</th>\n",
       "      <th>Crosses</th>\n",
       "      <th>Interceptions</th>\n",
       "      <th>Passes</th>\n",
       "      <th>PassesCompleted</th>\n",
       "      <th>PenaltiesConceded</th>\n",
       "      <th>Shots</th>\n",
       "      <th>ShotsOnGoal</th>\n",
       "      <th>TacklesWon</th>\n",
       "      <th>Touches</th>\n",
       "      <th>YellowCards</th>\n",
       "    </tr>\n",
       "  </thead>\n",
       "  <tbody>\n",
       "    <tr>\n",
       "      <th>12</th>\n",
       "      <td>0</td>\n",
       "      <td>7</td>\n",
       "      <td>18</td>\n",
       "      <td>401</td>\n",
       "      <td>294</td>\n",
       "      <td>0</td>\n",
       "      <td>14</td>\n",
       "      <td>5</td>\n",
       "      <td>18</td>\n",
       "      <td>618</td>\n",
       "      <td>0</td>\n",
       "    </tr>\n",
       "    <tr>\n",
       "      <th>13</th>\n",
       "      <td>4</td>\n",
       "      <td>22</td>\n",
       "      <td>20</td>\n",
       "      <td>626</td>\n",
       "      <td>539</td>\n",
       "      <td>0</td>\n",
       "      <td>14</td>\n",
       "      <td>3</td>\n",
       "      <td>13</td>\n",
       "      <td>857</td>\n",
       "      <td>1</td>\n",
       "    </tr>\n",
       "    <tr>\n",
       "      <th>62</th>\n",
       "      <td>7</td>\n",
       "      <td>14</td>\n",
       "      <td>13</td>\n",
       "      <td>985</td>\n",
       "      <td>908</td>\n",
       "      <td>0</td>\n",
       "      <td>21</td>\n",
       "      <td>7</td>\n",
       "      <td>15</td>\n",
       "      <td>1177</td>\n",
       "      <td>1</td>\n",
       "    </tr>\n",
       "    <tr>\n",
       "      <th>63</th>\n",
       "      <td>0</td>\n",
       "      <td>11</td>\n",
       "      <td>18</td>\n",
       "      <td>317</td>\n",
       "      <td>227</td>\n",
       "      <td>0</td>\n",
       "      <td>4</td>\n",
       "      <td>1</td>\n",
       "      <td>16</td>\n",
       "      <td>517</td>\n",
       "      <td>0</td>\n",
       "    </tr>\n",
       "    <tr>\n",
       "      <th>80</th>\n",
       "      <td>0</td>\n",
       "      <td>6</td>\n",
       "      <td>15</td>\n",
       "      <td>493</td>\n",
       "      <td>408</td>\n",
       "      <td>0</td>\n",
       "      <td>9</td>\n",
       "      <td>3</td>\n",
       "      <td>22</td>\n",
       "      <td>721</td>\n",
       "      <td>1</td>\n",
       "    </tr>\n",
       "  </tbody>\n",
       "</table>\n",
       "</div>"
      ],
      "text/plain": [
       "    CornersWon  Crosses  Interceptions  Passes  PassesCompleted  \\\n",
       "12           0        7             18     401              294   \n",
       "13           4       22             20     626              539   \n",
       "62           7       14             13     985              908   \n",
       "63           0       11             18     317              227   \n",
       "80           0        6             15     493              408   \n",
       "\n",
       "    PenaltiesConceded  Shots  ShotsOnGoal  TacklesWon  Touches  YellowCards  \n",
       "12                  0     14            5          18      618            0  \n",
       "13                  0     14            3          13      857            1  \n",
       "62                  0     21            7          15     1177            1  \n",
       "63                  0      4            1          16      517            0  \n",
       "80                  0      9            3          22      721            1  "
      ]
     },
     "execution_count": 30,
     "metadata": {},
     "output_type": "execute_result"
    }
   ],
   "source": [
    "X1_final=X_final.iloc[:, [2,3,8,11,12,13,18,19,20,21,22]]\n",
    "\n",
    "X1_final.head()"
   ]
  },
  {
   "cell_type": "markdown",
   "metadata": {},
   "source": [
    "Now the objective is to optimize the paramters of the random forest classifier. I create a paramter grid with different values to test different combinations of parameters to see what gives me the best outcome  "
   ]
  },
  {
   "cell_type": "code",
   "execution_count": null,
   "metadata": {},
   "outputs": [],
   "source": [
    "param_grid = { \n",
    "    'n_estimators': [10, 20, 30, 50, 100],\n",
    "    'max_features': ['auto', 'sqrt', 'log2'],\n",
    "    'max_depth' : [5,10,15, 20,30,50],\n",
    "    'criterion' :['gini', 'entropy'],\n",
    "    'min_samples_leaf':[1,2,3,5,10] \n",
    "}"
   ]
  },
  {
   "cell_type": "markdown",
   "metadata": {},
   "source": [
    "I run a grid search CV function which essentially allows me to find the most optimal paramter set. It runs through multiple combinations estimators, features, depth, criterion and min leaf samples to find the best model."
   ]
  },
  {
   "cell_type": "code",
   "execution_count": null,
   "metadata": {},
   "outputs": [],
   "source": [
    "CV_rfc = GridSearchCV(estimator=forest, param_grid=param_grid, cv=5)\n",
    "CV_rfc.fit(X1_big_new, y_big)"
   ]
  },
  {
   "cell_type": "markdown",
   "metadata": {},
   "source": [
    "The following are found to be the best parameters based on my grid search model."
   ]
  },
  {
   "cell_type": "code",
   "execution_count": null,
   "metadata": {},
   "outputs": [],
   "source": [
    "CV_rfc.best_params_"
   ]
  },
  {
   "cell_type": "markdown",
   "metadata": {},
   "source": [
    "I implement the new random classifier model with newly tuned parameters and the new accuracy is around 67%, only a 1% increase when tried on the train/test case."
   ]
  },
  {
   "cell_type": "code",
   "execution_count": 31,
   "metadata": {},
   "outputs": [
    {
     "name": "stdout",
     "output_type": "stream",
     "text": [
      "0.703\n"
     ]
    },
    {
     "data": {
      "text/html": [
       "<div>\n",
       "<style scoped>\n",
       "    .dataframe tbody tr th:only-of-type {\n",
       "        vertical-align: middle;\n",
       "    }\n",
       "\n",
       "    .dataframe tbody tr th {\n",
       "        vertical-align: top;\n",
       "    }\n",
       "\n",
       "    .dataframe thead th {\n",
       "        text-align: right;\n",
       "    }\n",
       "</style>\n",
       "<table border=\"1\" class=\"dataframe\">\n",
       "  <thead>\n",
       "    <tr style=\"text-align: right;\">\n",
       "      <th></th>\n",
       "      <th>Predicted 0</th>\n",
       "      <th>Predicted 1</th>\n",
       "    </tr>\n",
       "  </thead>\n",
       "  <tbody>\n",
       "    <tr>\n",
       "      <th>True 0</th>\n",
       "      <td>12</td>\n",
       "      <td>111</td>\n",
       "    </tr>\n",
       "    <tr>\n",
       "      <th>True 1</th>\n",
       "      <td>2</td>\n",
       "      <td>255</td>\n",
       "    </tr>\n",
       "  </tbody>\n",
       "</table>\n",
       "</div>"
      ],
      "text/plain": [
       "        Predicted 0  Predicted 1\n",
       "True 0           12          111\n",
       "True 1            2          255"
      ]
     },
     "execution_count": 31,
     "metadata": {},
     "output_type": "execute_result"
    }
   ],
   "source": [
    "forest = RandomForestClassifier(n_estimators=100, max_depth=5, random_state=42, criterion = 'entropy',\n",
    "                               min_samples_leaf = 3, max_features = 'auto')\n",
    "forest.fit(X1_train,y1_train)\n",
    "y_predict = forest.predict(X1_test)\n",
    "print(round(accuracy_score(y1_test, y_predict),3))\n",
    "pd.DataFrame(\n",
    "    confusion_matrix(y1_test, y_predict),\n",
    "    columns=['Predicted 0', 'Predicted 1'],\n",
    "    index=['True 0', 'True 1'])"
   ]
  },
  {
   "cell_type": "markdown",
   "metadata": {},
   "source": [
    "I implement the new random classifier model with newly tuned parameters on the 2017/18 data and the new accuracy is around 71.6%, much better. This is better than a 50% accuracy expected with random guessing."
   ]
  },
  {
   "cell_type": "code",
   "execution_count": 32,
   "metadata": {},
   "outputs": [
    {
     "name": "stdout",
     "output_type": "stream",
     "text": [
      "0.716\n"
     ]
    },
    {
     "data": {
      "text/html": [
       "<div>\n",
       "<style scoped>\n",
       "    .dataframe tbody tr th:only-of-type {\n",
       "        vertical-align: middle;\n",
       "    }\n",
       "\n",
       "    .dataframe tbody tr th {\n",
       "        vertical-align: top;\n",
       "    }\n",
       "\n",
       "    .dataframe thead th {\n",
       "        text-align: right;\n",
       "    }\n",
       "</style>\n",
       "<table border=\"1\" class=\"dataframe\">\n",
       "  <thead>\n",
       "    <tr style=\"text-align: right;\">\n",
       "      <th></th>\n",
       "      <th>Predicted 0</th>\n",
       "      <th>Predicted 1</th>\n",
       "    </tr>\n",
       "  </thead>\n",
       "  <tbody>\n",
       "    <tr>\n",
       "      <th>True 0</th>\n",
       "      <td>27</td>\n",
       "      <td>180</td>\n",
       "    </tr>\n",
       "    <tr>\n",
       "      <th>True 1</th>\n",
       "      <td>21</td>\n",
       "      <td>480</td>\n",
       "    </tr>\n",
       "  </tbody>\n",
       "</table>\n",
       "</div>"
      ],
      "text/plain": [
       "        Predicted 0  Predicted 1\n",
       "True 0           27          180\n",
       "True 1           21          480"
      ]
     },
     "execution_count": 32,
     "metadata": {},
     "output_type": "execute_result"
    }
   ],
   "source": [
    "forest = RandomForestClassifier(n_estimators=100, max_depth=5, random_state=42, criterion = 'entropy',\n",
    "                               min_samples_leaf = 3, max_features = 'auto')\n",
    "forest.fit(X1_big_new,y_big)\n",
    "y_predict = forest.predict(X1_final)\n",
    "print(round(accuracy_score(y_final, y_predict),3))\n",
    "pd.DataFrame(\n",
    "    confusion_matrix(y_final, y_predict),\n",
    "    columns=['Predicted 0', 'Predicted 1'],\n",
    "    index=['True 0', 'True 1'])"
   ]
  },
  {
   "cell_type": "markdown",
   "metadata": {},
   "source": [
    "However I notice that when I keep things \"simple\" and run the random forest with high estimators and low depth, I get a similar result."
   ]
  },
  {
   "cell_type": "code",
   "execution_count": 33,
   "metadata": {},
   "outputs": [
    {
     "name": "stdout",
     "output_type": "stream",
     "text": [
      "0.722\n"
     ]
    },
    {
     "data": {
      "text/html": [
       "<div>\n",
       "<style scoped>\n",
       "    .dataframe tbody tr th:only-of-type {\n",
       "        vertical-align: middle;\n",
       "    }\n",
       "\n",
       "    .dataframe tbody tr th {\n",
       "        vertical-align: top;\n",
       "    }\n",
       "\n",
       "    .dataframe thead th {\n",
       "        text-align: right;\n",
       "    }\n",
       "</style>\n",
       "<table border=\"1\" class=\"dataframe\">\n",
       "  <thead>\n",
       "    <tr style=\"text-align: right;\">\n",
       "      <th></th>\n",
       "      <th>Predicted 0</th>\n",
       "      <th>Predicted 1</th>\n",
       "    </tr>\n",
       "  </thead>\n",
       "  <tbody>\n",
       "    <tr>\n",
       "      <th>True 0</th>\n",
       "      <td>27</td>\n",
       "      <td>180</td>\n",
       "    </tr>\n",
       "    <tr>\n",
       "      <th>True 1</th>\n",
       "      <td>17</td>\n",
       "      <td>484</td>\n",
       "    </tr>\n",
       "  </tbody>\n",
       "</table>\n",
       "</div>"
      ],
      "text/plain": [
       "        Predicted 0  Predicted 1\n",
       "True 0           27          180\n",
       "True 1           17          484"
      ]
     },
     "execution_count": 33,
     "metadata": {},
     "output_type": "execute_result"
    }
   ],
   "source": [
    "forest1 = RandomForestClassifier(n_estimators=100, max_depth=5, random_state=42)\n",
    "forest1.fit(X1_big_new,y_big)\n",
    "y_predict = forest1.predict(X1_final)\n",
    "print(round(accuracy_score(y_final, y_predict),3))\n",
    "pd.DataFrame(\n",
    "    confusion_matrix(y_final, y_predict),\n",
    "    columns=['Predicted 0', 'Predicted 1'],\n",
    "    index=['True 0', 'True 1'])"
   ]
  },
  {
   "cell_type": "markdown",
   "metadata": {},
   "source": [
    "I plot one of the trees in the forest to visualize and observe. I utilize the graphviz library to create a visualization of the tree. "
   ]
  },
  {
   "cell_type": "code",
   "execution_count": null,
   "metadata": {},
   "outputs": [],
   "source": [
    "tree1=forest1.estimators_[1]"
   ]
  },
  {
   "cell_type": "code",
   "execution_count": null,
   "metadata": {},
   "outputs": [],
   "source": [
    "dot_data = StringIO()\n",
    "export_graphviz(tree1, out_file=dot_data,  \n",
    "                filled=True, rounded=True,\n",
    "                special_characters=True, feature_names=X1_final.columns)"
   ]
  },
  {
   "cell_type": "code",
   "execution_count": null,
   "metadata": {},
   "outputs": [],
   "source": [
    "graph = pydotplus.graph_from_dot_data(dot_data.getvalue())  \n",
    "Image(graph.create_png())"
   ]
  },
  {
   "cell_type": "markdown",
   "metadata": {},
   "source": [
    "Conclusion: with the random forest model, I can predict 72% of the time if a goal will be scored or not. The prediction is a lot easier for a case where a goal will be scored. This is a fascinating finding. I will now focus on how accurately I can predict the number of goals that will be conceded."
   ]
  },
  {
   "cell_type": "markdown",
   "metadata": {},
   "source": [
    "### Can I Classify Win/Loss"
   ]
  },
  {
   "cell_type": "markdown",
   "metadata": {},
   "source": [
    "After completing my analysis, I realize that with all the findings I can actually try to classify a result in the game for the particular team based on their statistics. To do this I create a new label called result:\n",
    "    1. Draw or Win - 1 is label\n",
    "    2. Loss - 0 is label"
   ]
  },
  {
   "cell_type": "code",
   "execution_count": 52,
   "metadata": {},
   "outputs": [
    {
     "data": {
      "text/plain": [
       "12    0\n",
       "13    0\n",
       "62    0\n",
       "63    0\n",
       "80    0\n",
       "Name: Result, dtype: int64"
      ]
     },
     "execution_count": 52,
     "metadata": {},
     "output_type": "execute_result"
    }
   ],
   "source": [
    "pd.options.mode.chained_assignment = None\n",
    "EPL_2015_2016_WL['Result']=[0]*len(EPL_2015_2016_WL)\n",
    "\n",
    "EPL_2017_2018_WL['Result']=[0]*len(EPL_2017_2018_WL)\n",
    "EPL_2017_2018_WL['Result'].head()"
   ]
  },
  {
   "cell_type": "markdown",
   "metadata": {},
   "source": [
    "This is a function to append the result label for different seasons."
   ]
  },
  {
   "cell_type": "code",
   "execution_count": 53,
   "metadata": {},
   "outputs": [],
   "source": [
    "def result(df):\n",
    "    for i in range(len(df)):\n",
    "        pd.options.mode.chained_assignment = None\n",
    "        if ((df['Goals'].iloc[i])<(df['GoalkeeperGoalsAgainst'].iloc[i])):\n",
    "            df['Result'].iloc[i]=0\n",
    "        else:\n",
    "            df['Result'].iloc[i]=1        "
   ]
  },
  {
   "cell_type": "code",
   "execution_count": 54,
   "metadata": {},
   "outputs": [],
   "source": [
    "result(EPL_2015_2016_WL)\n",
    "\n",
    "result(EPL_2017_2018_WL)\n"
   ]
  },
  {
   "cell_type": "code",
   "execution_count": 55,
   "metadata": {},
   "outputs": [
    {
     "data": {
      "text/html": [
       "<div>\n",
       "<style scoped>\n",
       "    .dataframe tbody tr th:only-of-type {\n",
       "        vertical-align: middle;\n",
       "    }\n",
       "\n",
       "    .dataframe tbody tr th {\n",
       "        vertical-align: top;\n",
       "    }\n",
       "\n",
       "    .dataframe thead th {\n",
       "        text-align: right;\n",
       "    }\n",
       "</style>\n",
       "<table border=\"1\" class=\"dataframe\">\n",
       "  <thead>\n",
       "    <tr style=\"text-align: right;\">\n",
       "      <th></th>\n",
       "      <th>Result</th>\n",
       "      <th>Goals</th>\n",
       "      <th>GoalkeeperGoalsAgainst</th>\n",
       "    </tr>\n",
       "  </thead>\n",
       "  <tbody>\n",
       "    <tr>\n",
       "      <th>0</th>\n",
       "      <td>1</td>\n",
       "      <td>0</td>\n",
       "      <td>0</td>\n",
       "    </tr>\n",
       "    <tr>\n",
       "      <th>1</th>\n",
       "      <td>1</td>\n",
       "      <td>3</td>\n",
       "      <td>1</td>\n",
       "    </tr>\n",
       "    <tr>\n",
       "      <th>2</th>\n",
       "      <td>0</td>\n",
       "      <td>1</td>\n",
       "      <td>5</td>\n",
       "    </tr>\n",
       "    <tr>\n",
       "      <th>3</th>\n",
       "      <td>1</td>\n",
       "      <td>5</td>\n",
       "      <td>1</td>\n",
       "    </tr>\n",
       "    <tr>\n",
       "      <th>4</th>\n",
       "      <td>0</td>\n",
       "      <td>0</td>\n",
       "      <td>4</td>\n",
       "    </tr>\n",
       "  </tbody>\n",
       "</table>\n",
       "</div>"
      ],
      "text/plain": [
       "   Result  Goals  GoalkeeperGoalsAgainst\n",
       "0       1      0                       0\n",
       "1       1      3                       1\n",
       "2       0      1                       5\n",
       "3       1      5                       1\n",
       "4       0      0                       4"
      ]
     },
     "execution_count": 55,
     "metadata": {},
     "output_type": "execute_result"
    }
   ],
   "source": [
    "EPL_2015_2016_WL[['Result','Goals','GoalkeeperGoalsAgainst']].head()\n"
   ]
  },
  {
   "cell_type": "code",
   "execution_count": 56,
   "metadata": {},
   "outputs": [
    {
     "data": {
      "text/html": [
       "<div>\n",
       "<style scoped>\n",
       "    .dataframe tbody tr th:only-of-type {\n",
       "        vertical-align: middle;\n",
       "    }\n",
       "\n",
       "    .dataframe tbody tr th {\n",
       "        vertical-align: top;\n",
       "    }\n",
       "\n",
       "    .dataframe thead th {\n",
       "        text-align: right;\n",
       "    }\n",
       "</style>\n",
       "<table border=\"1\" class=\"dataframe\">\n",
       "  <thead>\n",
       "    <tr style=\"text-align: right;\">\n",
       "      <th></th>\n",
       "      <th>Result</th>\n",
       "      <th>Goals</th>\n",
       "      <th>GoalkeeperGoalsAgainst</th>\n",
       "    </tr>\n",
       "  </thead>\n",
       "  <tbody>\n",
       "    <tr>\n",
       "      <th>12</th>\n",
       "      <td>0</td>\n",
       "      <td>0</td>\n",
       "      <td>2</td>\n",
       "    </tr>\n",
       "    <tr>\n",
       "      <th>13</th>\n",
       "      <td>1</td>\n",
       "      <td>2</td>\n",
       "      <td>0</td>\n",
       "    </tr>\n",
       "    <tr>\n",
       "      <th>62</th>\n",
       "      <td>1</td>\n",
       "      <td>3</td>\n",
       "      <td>1</td>\n",
       "    </tr>\n",
       "    <tr>\n",
       "      <th>63</th>\n",
       "      <td>0</td>\n",
       "      <td>1</td>\n",
       "      <td>4</td>\n",
       "    </tr>\n",
       "    <tr>\n",
       "      <th>80</th>\n",
       "      <td>0</td>\n",
       "      <td>1</td>\n",
       "      <td>2</td>\n",
       "    </tr>\n",
       "  </tbody>\n",
       "</table>\n",
       "</div>"
      ],
      "text/plain": [
       "    Result  Goals  GoalkeeperGoalsAgainst\n",
       "12       0      0                       2\n",
       "13       1      2                       0\n",
       "62       1      3                       1\n",
       "63       0      1                       4\n",
       "80       0      1                       2"
      ]
     },
     "execution_count": 56,
     "metadata": {},
     "output_type": "execute_result"
    }
   ],
   "source": [
    "EPL_2017_2018_WL[['Result','Goals','GoalkeeperGoalsAgainst']].head()\n"
   ]
  },
  {
   "cell_type": "markdown",
   "metadata": {},
   "source": [
    "I create the X and y data frames for the models. I create a train and test dataset. "
   ]
  },
  {
   "cell_type": "code",
   "execution_count": 58,
   "metadata": {},
   "outputs": [
    {
     "data": {
      "text/plain": [
       "array(['Assists', 'BlockedShots', 'CornersWon', 'Crosses', 'Fouled',\n",
       "       'Fouls', 'GoalkeeperSaves', 'Interceptions', 'LastManTackle',\n",
       "       'Offsides', 'Passes', 'PassesCompleted', 'PenaltiesConceded',\n",
       "       'PenaltiesWon', 'PenaltyKickMisses', 'PenaltyKickSaves',\n",
       "       'RedCards', 'Shots', 'ShotsOnGoal', 'TacklesWon', 'Touches',\n",
       "       'YellowCards'], dtype=object)"
      ]
     },
     "execution_count": 58,
     "metadata": {},
     "output_type": "execute_result"
    }
   ],
   "source": [
    "X_WL = EPL_2015_2016_WL.drop(columns=['goal_against_label','goal_label','GA_unique_label','Goals',\n",
    "                                   'GoalkeeperGoalsAgainst','Result'])\n",
    "y_WL = EPL_2015_2016_WL['Result']\n",
    "\n",
    "X_WL_17 = EPL_2017_2018_WL.drop(columns=['goal_against_label','goal_label','GA_unique_label','Goals',\n",
    "                                   'GoalkeeperGoalsAgainst','Result'])\n",
    "y_WL_17 = EPL_2017_2018_WL['Result']\n",
    "\n",
    "X_train, X_test, y_train, y_test = train_test_split(X_WL, y_WL,stratify=y_WL)\n",
    "\n",
    "array(X_WL.columns.values)"
   ]
  },
  {
   "cell_type": "markdown",
   "metadata": {},
   "source": [
    "Once I create my test and train data, I run the following models to predict outcomes:\n",
    "    1. Logistic Regression\n",
    "    2. Random Forest"
   ]
  },
  {
   "cell_type": "markdown",
   "metadata": {},
   "source": [
    "The logistic regression produces an accuracy of 74% for the outcomes"
   ]
  },
  {
   "cell_type": "code",
   "execution_count": 59,
   "metadata": {},
   "outputs": [
    {
     "name": "stdout",
     "output_type": "stream",
     "text": [
      "0.737\n"
     ]
    },
    {
     "data": {
      "text/html": [
       "<div>\n",
       "<style scoped>\n",
       "    .dataframe tbody tr th:only-of-type {\n",
       "        vertical-align: middle;\n",
       "    }\n",
       "\n",
       "    .dataframe tbody tr th {\n",
       "        vertical-align: top;\n",
       "    }\n",
       "\n",
       "    .dataframe thead th {\n",
       "        text-align: right;\n",
       "    }\n",
       "</style>\n",
       "<table border=\"1\" class=\"dataframe\">\n",
       "  <thead>\n",
       "    <tr style=\"text-align: right;\">\n",
       "      <th></th>\n",
       "      <th>Predicted 0</th>\n",
       "      <th>Predicted 1</th>\n",
       "    </tr>\n",
       "  </thead>\n",
       "  <tbody>\n",
       "    <tr>\n",
       "      <th>True 0</th>\n",
       "      <td>29</td>\n",
       "      <td>32</td>\n",
       "    </tr>\n",
       "    <tr>\n",
       "      <th>True 1</th>\n",
       "      <td>18</td>\n",
       "      <td>111</td>\n",
       "    </tr>\n",
       "  </tbody>\n",
       "</table>\n",
       "</div>"
      ],
      "text/plain": [
       "        Predicted 0  Predicted 1\n",
       "True 0           29           32\n",
       "True 1           18          111"
      ]
     },
     "execution_count": 59,
     "metadata": {},
     "output_type": "execute_result"
    }
   ],
   "source": [
    "logreg = linear_model.LogisticRegression()\n",
    "logreg.fit(X_train,y_train)\n",
    "y_predict = logreg.predict(X_test)\n",
    "print(round(accuracy_score(y_test, y_predict),3))\n",
    "\n",
    "pd.DataFrame(\n",
    "    confusion_matrix(y_test, y_predict),\n",
    "    columns=['Predicted 0', 'Predicted 1'],\n",
    "    index=['True 0', 'True 1'])"
   ]
  },
  {
   "cell_type": "markdown",
   "metadata": {},
   "source": [
    "The random forest produces an accuracy of 70% for the outcomes"
   ]
  },
  {
   "cell_type": "code",
   "execution_count": 60,
   "metadata": {},
   "outputs": [
    {
     "name": "stdout",
     "output_type": "stream",
     "text": [
      "0.716\n"
     ]
    },
    {
     "data": {
      "text/html": [
       "<div>\n",
       "<style scoped>\n",
       "    .dataframe tbody tr th:only-of-type {\n",
       "        vertical-align: middle;\n",
       "    }\n",
       "\n",
       "    .dataframe tbody tr th {\n",
       "        vertical-align: top;\n",
       "    }\n",
       "\n",
       "    .dataframe thead th {\n",
       "        text-align: right;\n",
       "    }\n",
       "</style>\n",
       "<table border=\"1\" class=\"dataframe\">\n",
       "  <thead>\n",
       "    <tr style=\"text-align: right;\">\n",
       "      <th></th>\n",
       "      <th>Predicted 0</th>\n",
       "      <th>Predicted 1</th>\n",
       "    </tr>\n",
       "  </thead>\n",
       "  <tbody>\n",
       "    <tr>\n",
       "      <th>True 0</th>\n",
       "      <td>22</td>\n",
       "      <td>39</td>\n",
       "    </tr>\n",
       "    <tr>\n",
       "      <th>True 1</th>\n",
       "      <td>15</td>\n",
       "      <td>114</td>\n",
       "    </tr>\n",
       "  </tbody>\n",
       "</table>\n",
       "</div>"
      ],
      "text/plain": [
       "        Predicted 0  Predicted 1\n",
       "True 0           22           39\n",
       "True 1           15          114"
      ]
     },
     "execution_count": 60,
     "metadata": {},
     "output_type": "execute_result"
    }
   ],
   "source": [
    "random_forest = RandomForestClassifier(n_estimators=60, max_depth=30, random_state=1,criterion='entropy')\n",
    "random_forest.fit(X_train,y_train)\n",
    "y_predict = random_forest.predict(X_test)\n",
    "print(round(accuracy_score(y_test, y_predict),3))\n",
    "pd.DataFrame(\n",
    "    confusion_matrix(y_test, y_predict),\n",
    "    columns=['Predicted 0', 'Predicted 1'],\n",
    "    index=['True 0', 'True 1'])"
   ]
  },
  {
   "cell_type": "markdown",
   "metadata": {},
   "source": [
    "Since the logistic model produces the best result, I try now to optimize it using feature selection."
   ]
  },
  {
   "cell_type": "code",
   "execution_count": 61,
   "metadata": {},
   "outputs": [
    {
     "name": "stdout",
     "output_type": "stream",
     "text": [
      "[ True False  True  True False  True False  True  True False False False\n",
      " False False  True  True  True  True  True False False False]\n",
      "[ 1  4  1  1  6  1  2  1  1  9  8  7 11 12  1  1  1  1  1  3 10  5]\n"
     ]
    }
   ],
   "source": [
    "rfe = RFE(logreg)\n",
    "rfe = rfe.fit(X_WL,y_WL)\n",
    "print(rfe.support_)\n",
    "print(rfe.ranking_)"
   ]
  },
  {
   "cell_type": "code",
   "execution_count": 62,
   "metadata": {},
   "outputs": [
    {
     "name": "stdout",
     "output_type": "stream",
     "text": [
      "[ True False  True  True  True  True False  True False False  True  True\n",
      " False False False False False  True  True  True False False]\n",
      "[ 1  3  1  1  1  1  2  1  7  4  1  1 11 10  9  8  6  1  1  1 12  5]\n"
     ]
    }
   ],
   "source": [
    "rfe = RFE(random_forest)\n",
    "rfe = rfe.fit(X_WL,y_WL)\n",
    "print(rfe.support_)\n",
    "print(rfe.ranking_)"
   ]
  },
  {
   "cell_type": "markdown",
   "metadata": {},
   "source": [
    "I then create the new dataframes with the newly selected features"
   ]
  },
  {
   "cell_type": "code",
   "execution_count": 63,
   "metadata": {},
   "outputs": [],
   "source": [
    "X_WL_log=X_WL.iloc[:, [0,2,3,5,7,8,14,15,16,17,18]]\n",
    "X_WL_rfc=X_WL.iloc[:, [0,2,3,4,5,7,10,11,17,18,19]]\n",
    "X_WL_17_log=X_WL_17.iloc[:, [0,2,3,5,7,8,14,15,16,17,18]]\n",
    "X_WL_17_rfc=X_WL_17.iloc[:, [0,2,3,4,5,7,10,11,17,18,19]]"
   ]
  },
  {
   "cell_type": "code",
   "execution_count": 64,
   "metadata": {},
   "outputs": [],
   "source": [
    "from scipy import stats\n",
    "stats.chisqprob = lambda chisq, df: stats.chi2.sf(chisq, df)"
   ]
  },
  {
   "cell_type": "markdown",
   "metadata": {},
   "source": [
    "I run the results for the logistic regression fit to get the P values for all the different features. Some variables have a p-value greater than 0.05, I drop them and reevaluate the model"
   ]
  },
  {
   "cell_type": "code",
   "execution_count": 65,
   "metadata": {},
   "outputs": [
    {
     "name": "stderr",
     "output_type": "stream",
     "text": [
      "/anaconda3/lib/python3.6/site-packages/statsmodels/compat/pandas.py:56: FutureWarning: The pandas.core.datetools module is deprecated and will be removed in a future version. Please use the pandas.tseries module instead.\n",
      "  from pandas.core import datetools\n"
     ]
    },
    {
     "name": "stdout",
     "output_type": "stream",
     "text": [
      "Optimization terminated successfully.\n",
      "         Current function value: 0.506973\n",
      "         Iterations 7\n",
      "                           Logit Regression Results                           \n",
      "==============================================================================\n",
      "Dep. Variable:                 Result   No. Observations:                  708\n",
      "Model:                          Logit   Df Residuals:                      697\n",
      "Method:                           MLE   Df Model:                           10\n",
      "Date:                Fri, 11 May 2018   Pseudo R-squ.:                  0.2341\n",
      "Time:                        15:51:46   Log-Likelihood:                -358.94\n",
      "converged:                       True   LL-Null:                       -468.64\n",
      "                                        LLR p-value:                 1.421e-41\n",
      "=====================================================================================\n",
      "                        coef    std err          z      P>|z|      [0.025      0.975]\n",
      "-------------------------------------------------------------------------------------\n",
      "Assists               1.0023      0.137      7.331      0.000       0.734       1.270\n",
      "CornersWon           -0.0066      0.041     -0.160      0.873      -0.088       0.075\n",
      "Crosses              -0.0473      0.014     -3.370      0.001      -0.075      -0.020\n",
      "Fouls                -0.0134      0.021     -0.640      0.522      -0.055       0.028\n",
      "Interceptions        -0.0447      0.014     -3.171      0.002      -0.072      -0.017\n",
      "LastManTackle        -0.2740      0.330     -0.831      0.406      -0.920       0.372\n",
      "PenaltyKickMisses     0.0453      0.557      0.081      0.935      -1.046       1.137\n",
      "PenaltyKickSaves     -0.7879      0.573     -1.375      0.169      -1.911       0.335\n",
      "RedCards             -1.2399      0.572     -2.169      0.030      -2.360      -0.119\n",
      "Shots                 0.1025      0.026      3.922      0.000       0.051       0.154\n",
      "ShotsOnGoal           0.0966      0.058      1.660      0.097      -0.017       0.211\n",
      "=====================================================================================\n"
     ]
    }
   ],
   "source": [
    "import statsmodels.api as sm\n",
    "logit_model=sm.Logit(y_WL_17,X_WL_17_log)\n",
    "result=logit_model.fit()\n",
    "print(result.summary())"
   ]
  },
  {
   "cell_type": "markdown",
   "metadata": {},
   "source": [
    "I removed the variables that had a P-value higher than 0.05 and created a new X matrix with only 5 predictors"
   ]
  },
  {
   "cell_type": "code",
   "execution_count": 66,
   "metadata": {},
   "outputs": [
    {
     "data": {
      "text/html": [
       "<div>\n",
       "<style scoped>\n",
       "    .dataframe tbody tr th:only-of-type {\n",
       "        vertical-align: middle;\n",
       "    }\n",
       "\n",
       "    .dataframe tbody tr th {\n",
       "        vertical-align: top;\n",
       "    }\n",
       "\n",
       "    .dataframe thead th {\n",
       "        text-align: right;\n",
       "    }\n",
       "</style>\n",
       "<table border=\"1\" class=\"dataframe\">\n",
       "  <thead>\n",
       "    <tr style=\"text-align: right;\">\n",
       "      <th></th>\n",
       "      <th>Assists</th>\n",
       "      <th>Crosses</th>\n",
       "      <th>Interceptions</th>\n",
       "      <th>RedCards</th>\n",
       "      <th>Shots</th>\n",
       "    </tr>\n",
       "  </thead>\n",
       "  <tbody>\n",
       "    <tr>\n",
       "      <th>12</th>\n",
       "      <td>0</td>\n",
       "      <td>7</td>\n",
       "      <td>18</td>\n",
       "      <td>0</td>\n",
       "      <td>14</td>\n",
       "    </tr>\n",
       "    <tr>\n",
       "      <th>13</th>\n",
       "      <td>2</td>\n",
       "      <td>22</td>\n",
       "      <td>20</td>\n",
       "      <td>0</td>\n",
       "      <td>14</td>\n",
       "    </tr>\n",
       "    <tr>\n",
       "      <th>62</th>\n",
       "      <td>3</td>\n",
       "      <td>14</td>\n",
       "      <td>13</td>\n",
       "      <td>0</td>\n",
       "      <td>21</td>\n",
       "    </tr>\n",
       "    <tr>\n",
       "      <th>63</th>\n",
       "      <td>0</td>\n",
       "      <td>11</td>\n",
       "      <td>18</td>\n",
       "      <td>0</td>\n",
       "      <td>4</td>\n",
       "    </tr>\n",
       "    <tr>\n",
       "      <th>80</th>\n",
       "      <td>1</td>\n",
       "      <td>6</td>\n",
       "      <td>15</td>\n",
       "      <td>0</td>\n",
       "      <td>9</td>\n",
       "    </tr>\n",
       "  </tbody>\n",
       "</table>\n",
       "</div>"
      ],
      "text/plain": [
       "    Assists  Crosses  Interceptions  RedCards  Shots\n",
       "12        0        7             18         0     14\n",
       "13        2       22             20         0     14\n",
       "62        3       14             13         0     21\n",
       "63        0       11             18         0      4\n",
       "80        1        6             15         0      9"
      ]
     },
     "execution_count": 66,
     "metadata": {},
     "output_type": "execute_result"
    }
   ],
   "source": [
    "X_WL_log_new=X_WL_log.iloc[:, [0,2,4,8,9]]\n",
    "X_WL_17_log_new=X_WL_17_log.iloc[:, [0,2,4,8,9]]\n",
    "X_WL_17_log_new.head()"
   ]
  },
  {
   "cell_type": "markdown",
   "metadata": {},
   "source": [
    "I run the model on the 2017 data to test my predictions against the real outcomes. I get around a 69% accuracy."
   ]
  },
  {
   "cell_type": "code",
   "execution_count": 67,
   "metadata": {},
   "outputs": [
    {
     "name": "stdout",
     "output_type": "stream",
     "text": [
      "0.689\n"
     ]
    },
    {
     "data": {
      "text/html": [
       "<div>\n",
       "<style scoped>\n",
       "    .dataframe tbody tr th:only-of-type {\n",
       "        vertical-align: middle;\n",
       "    }\n",
       "\n",
       "    .dataframe tbody tr th {\n",
       "        vertical-align: top;\n",
       "    }\n",
       "\n",
       "    .dataframe thead th {\n",
       "        text-align: right;\n",
       "    }\n",
       "</style>\n",
       "<table border=\"1\" class=\"dataframe\">\n",
       "  <thead>\n",
       "    <tr style=\"text-align: right;\">\n",
       "      <th></th>\n",
       "      <th>Predicted 0</th>\n",
       "      <th>Predicted 1</th>\n",
       "    </tr>\n",
       "  </thead>\n",
       "  <tbody>\n",
       "    <tr>\n",
       "      <th>True 0</th>\n",
       "      <td>121</td>\n",
       "      <td>145</td>\n",
       "    </tr>\n",
       "    <tr>\n",
       "      <th>True 1</th>\n",
       "      <td>75</td>\n",
       "      <td>367</td>\n",
       "    </tr>\n",
       "  </tbody>\n",
       "</table>\n",
       "</div>"
      ],
      "text/plain": [
       "        Predicted 0  Predicted 1\n",
       "True 0          121          145\n",
       "True 1           75          367"
      ]
     },
     "execution_count": 67,
     "metadata": {},
     "output_type": "execute_result"
    }
   ],
   "source": [
    "logreg.fit(X_WL_log,y_WL)\n",
    "y_predict = logreg.predict(X_WL_17_log)\n",
    "print(round(accuracy_score(y_WL_17, y_predict),3))\n",
    "\n",
    "pd.DataFrame(\n",
    "    confusion_matrix(y_WL_17, y_predict),\n",
    "    columns=['Predicted 0', 'Predicted 1'],\n",
    "    index=['True 0', 'True 1'])"
   ]
  },
  {
   "cell_type": "markdown",
   "metadata": {},
   "source": [
    "I then run the new logit model with 5 predictors on the 2017 data to test my predictions against the real outcomes. I get around a 70% accuracy. 70% with 5 predictors is a perfect balance to help me find players"
   ]
  },
  {
   "cell_type": "code",
   "execution_count": 68,
   "metadata": {},
   "outputs": [
    {
     "name": "stdout",
     "output_type": "stream",
     "text": [
      "0.701\n"
     ]
    },
    {
     "data": {
      "text/html": [
       "<div>\n",
       "<style scoped>\n",
       "    .dataframe tbody tr th:only-of-type {\n",
       "        vertical-align: middle;\n",
       "    }\n",
       "\n",
       "    .dataframe tbody tr th {\n",
       "        vertical-align: top;\n",
       "    }\n",
       "\n",
       "    .dataframe thead th {\n",
       "        text-align: right;\n",
       "    }\n",
       "</style>\n",
       "<table border=\"1\" class=\"dataframe\">\n",
       "  <thead>\n",
       "    <tr style=\"text-align: right;\">\n",
       "      <th></th>\n",
       "      <th>Predicted 0</th>\n",
       "      <th>Predicted 1</th>\n",
       "    </tr>\n",
       "  </thead>\n",
       "  <tbody>\n",
       "    <tr>\n",
       "      <th>True 0</th>\n",
       "      <td>116</td>\n",
       "      <td>150</td>\n",
       "    </tr>\n",
       "    <tr>\n",
       "      <th>True 1</th>\n",
       "      <td>62</td>\n",
       "      <td>380</td>\n",
       "    </tr>\n",
       "  </tbody>\n",
       "</table>\n",
       "</div>"
      ],
      "text/plain": [
       "        Predicted 0  Predicted 1\n",
       "True 0          116          150\n",
       "True 1           62          380"
      ]
     },
     "execution_count": 68,
     "metadata": {},
     "output_type": "execute_result"
    }
   ],
   "source": [
    "logreg.fit(X_WL_log_new,y_WL)\n",
    "y_predict = logreg.predict(X_WL_17_log_new)\n",
    "print(round(accuracy_score(y_WL_17, y_predict),3))\n",
    "\n",
    "pd.DataFrame(\n",
    "    confusion_matrix(y_WL_17, y_predict),\n",
    "    columns=['Predicted 0', 'Predicted 1'],\n",
    "    index=['True 0', 'True 1'])"
   ]
  },
  {
   "cell_type": "code",
   "execution_count": 69,
   "metadata": {},
   "outputs": [
    {
     "name": "stdout",
     "output_type": "stream",
     "text": [
      "             precision    recall  f1-score   support\n",
      "\n",
      "          0       0.65      0.44      0.52       266\n",
      "          1       0.72      0.86      0.78       442\n",
      "\n",
      "avg / total       0.69      0.70      0.68       708\n",
      "\n"
     ]
    }
   ],
   "source": [
    "from sklearn.metrics import classification_report\n",
    "print(classification_report(y_WL_17, y_predict))"
   ]
  },
  {
   "cell_type": "markdown",
   "metadata": {},
   "source": [
    "I created a ROC curve to visualize my binary classifer model. The dotted line represents the ROC curve of a random classifier while the blue line represents the current model. The current model is much further from the random classifier."
   ]
  },
  {
   "cell_type": "code",
   "execution_count": 70,
   "metadata": {},
   "outputs": [
    {
     "data": {
      "image/png": "[encoded data removed]",
      "text/plain": [
       "<matplotlib.figure.Figure at 0x11602d828>"
      ]
     },
     "metadata": {},
     "output_type": "display_data"
    }
   ],
   "source": [
    "from sklearn.metrics import roc_auc_score\n",
    "from sklearn.metrics import roc_curve\n",
    "logit_roc_auc = roc_auc_score(y_WL_17, y_predict)\n",
    "fpr, tpr, thresholds = roc_curve(y_WL_17, logreg.predict_proba(X_WL_17_log_new)[:,1])\n",
    "plt.figure()\n",
    "plt.plot(fpr, tpr, label='Logistic Regression (area = %0.2f)' % logit_roc_auc)\n",
    "plt.plot([0, 1], [0, 1],'r--')\n",
    "plt.xlim([0.0, 1.0])\n",
    "plt.ylim([0.0, 1.05])\n",
    "plt.xlabel('False Positive Rate')\n",
    "plt.ylabel('True Positive Rate')\n",
    "plt.title('Receiver operating characteristic')\n",
    "plt.legend(loc=\"lower right\")\n",
    "plt.savefig('Log_ROC')\n",
    "plt.show()"
   ]
  },
  {
   "cell_type": "markdown",
   "metadata": {},
   "source": [
    "I also run a random forest with the 5 predictors and receive a 71% accuracy. "
   ]
  },
  {
   "cell_type": "code",
   "execution_count": 71,
   "metadata": {},
   "outputs": [
    {
     "name": "stdout",
     "output_type": "stream",
     "text": [
      "0.713\n"
     ]
    },
    {
     "data": {
      "text/html": [
       "<div>\n",
       "<style scoped>\n",
       "    .dataframe tbody tr th:only-of-type {\n",
       "        vertical-align: middle;\n",
       "    }\n",
       "\n",
       "    .dataframe tbody tr th {\n",
       "        vertical-align: top;\n",
       "    }\n",
       "\n",
       "    .dataframe thead th {\n",
       "        text-align: right;\n",
       "    }\n",
       "</style>\n",
       "<table border=\"1\" class=\"dataframe\">\n",
       "  <thead>\n",
       "    <tr style=\"text-align: right;\">\n",
       "      <th></th>\n",
       "      <th>Predicted 0</th>\n",
       "      <th>Predicted 1</th>\n",
       "    </tr>\n",
       "  </thead>\n",
       "  <tbody>\n",
       "    <tr>\n",
       "      <th>True 0</th>\n",
       "      <td>133</td>\n",
       "      <td>133</td>\n",
       "    </tr>\n",
       "    <tr>\n",
       "      <th>True 1</th>\n",
       "      <td>70</td>\n",
       "      <td>372</td>\n",
       "    </tr>\n",
       "  </tbody>\n",
       "</table>\n",
       "</div>"
      ],
      "text/plain": [
       "        Predicted 0  Predicted 1\n",
       "True 0          133          133\n",
       "True 1           70          372"
      ]
     },
     "execution_count": 71,
     "metadata": {},
     "output_type": "execute_result"
    }
   ],
   "source": [
    "random_forest = RandomForestClassifier(n_estimators=200, max_depth=100, random_state=1,criterion='entropy')\n",
    "random_forest.fit(X_WL_rfc,y_WL)\n",
    "y_predict = random_forest.predict(X_WL_17_rfc)\n",
    "print(round(accuracy_score(y_WL_17, y_predict),3))\n",
    "\n",
    "pd.DataFrame(\n",
    "    confusion_matrix(y_WL_17, y_predict),\n",
    "    columns=['Predicted 0', 'Predicted 1'],\n",
    "    index=['True 0', 'True 1'])"
   ]
  },
  {
   "cell_type": "markdown",
   "metadata": {},
   "source": [
    "I visualize one of the trees from the random forest to visualize cutoff values"
   ]
  },
  {
   "cell_type": "markdown",
   "metadata": {},
   "source": [
    "I wanted to create a frequency plot of the results in comparison to the amount of goals scored. It is interesting to see that majority of the time, scoring 1 or 2 goals "
   ]
  },
  {
   "cell_type": "code",
   "execution_count": 73,
   "metadata": {},
   "outputs": [
    {
     "data": {
      "text/plain": [
       "Text(0,0.5,'Frequency of Goals')"
      ]
     },
     "execution_count": 73,
     "metadata": {},
     "output_type": "execute_result"
    },
    {
     "data": {
      "image/png": "[encoded data removed]",
      "text/plain": [
       "<matplotlib.figure.Figure at 0x1160c2a20>"
      ]
     },
     "metadata": {},
     "output_type": "display_data"
    }
   ],
   "source": [
    "pd.crosstab(EPL_2015_2016_WL.Result,EPL_2015_2016_WL.Goals).plot(kind='bar')\n",
    "plt.title('Frequency Plot of Result based on Goals Scored')\n",
    "plt.xlabel('Result')\n",
    "plt.ylabel('Frequency of Goals')"
   ]
  },
  {
   "cell_type": "markdown",
   "metadata": {},
   "source": [
    "Below is a frequency plot of the results in comparison to the amount of goals conceded. It is interesting to see that teams are still able to get a positive result after conceding upto 2 goals!"
   ]
  },
  {
   "cell_type": "code",
   "execution_count": 74,
   "metadata": {
    "scrolled": true
   },
   "outputs": [
    {
     "data": {
      "text/plain": [
       "Text(0,0.5,'Frequency of Goals Allowed')"
      ]
     },
     "execution_count": 74,
     "metadata": {},
     "output_type": "execute_result"
    },
    {
     "data": {
      "image/png": "[encoded data removed]",
      "text/plain": [
       "<matplotlib.figure.Figure at 0x11611f080>"
      ]
     },
     "metadata": {},
     "output_type": "display_data"
    }
   ],
   "source": [
    "pd.crosstab(EPL_2015_2016_WL.Result,EPL_2015_2016_WL.GoalkeeperGoalsAgainst).plot(kind='bar')\n",
    "plt.title('Frequency Plot of Result based on Goals Allowed')\n",
    "plt.xlabel('Result')\n",
    "plt.ylabel('Frequency of Goals Allowed')"
   ]
  },
  {
   "cell_type": "markdown",
   "metadata": {},
   "source": [
    "# Player Selection for Better Results"
   ]
  },
  {
   "cell_type": "markdown",
   "metadata": {},
   "source": [
    "My goal now is to do a player selection using player statistics from the 2017-18 season. Players that maximize the newly developed model are required. I use the logit model with 5 predictor variables that I create in the section above."
   ]
  },
  {
   "cell_type": "code",
   "execution_count": 75,
   "metadata": {},
   "outputs": [
    {
     "data": {
      "text/plain": [
       "array(['Assists', 'Crosses', 'Interceptions', 'RedCards', 'Shots'],\n",
       "      dtype=object)"
      ]
     },
     "execution_count": 75,
     "metadata": {},
     "output_type": "execute_result"
    }
   ],
   "source": [
    "array(X_WL_log_new.columns.values)"
   ]
  },
  {
   "cell_type": "markdown",
   "metadata": {},
   "source": [
    "I run a binomial regression similar to the one in the section above to create my logit model"
   ]
  },
  {
   "cell_type": "code",
   "execution_count": 76,
   "metadata": {},
   "outputs": [
    {
     "name": "stdout",
     "output_type": "stream",
     "text": [
      "Optimization terminated successfully.\n",
      "         Current function value: 0.511137\n",
      "         Iterations 7\n",
      "                           Logit Regression Results                           \n",
      "==============================================================================\n",
      "Dep. Variable:                 Result   No. Observations:                  708\n",
      "Model:                          Logit   Df Residuals:                      703\n",
      "Method:                           MLE   Df Model:                            4\n",
      "Date:                Fri, 11 May 2018   Pseudo R-squ.:                  0.2278\n",
      "Time:                        15:52:04   Log-Likelihood:                -361.89\n",
      "converged:                       True   LL-Null:                       -468.64\n",
      "                                        LLR p-value:                 4.664e-45\n",
      "=================================================================================\n",
      "                    coef    std err          z      P>|z|      [0.025      0.975]\n",
      "---------------------------------------------------------------------------------\n",
      "Assists           1.0756      0.128      8.405      0.000       0.825       1.326\n",
      "Crosses          -0.0517      0.011     -4.590      0.000      -0.074      -0.030\n",
      "Interceptions    -0.0500      0.011     -4.532      0.000      -0.072      -0.028\n",
      "RedCards         -1.2381      0.562     -2.203      0.028      -2.340      -0.136\n",
      "Shots             0.1230      0.020      6.058      0.000       0.083       0.163\n",
      "=================================================================================\n"
     ]
    }
   ],
   "source": [
    "import statsmodels.api as sm\n",
    "import statsmodels.genmod.generalized_linear_model as stat\n",
    "logit_model=sm.Logit(y_WL_17,X_WL_17_log_new)\n",
    "#player_model=sm.GLM(y_WL_17,X_WL_17_log_new,sm.families.Binomial())\n",
    "result=logit_model.fit()\n",
    "print(result.summary())"
   ]
  },
  {
   "cell_type": "markdown",
   "metadata": {},
   "source": [
    "I then use the csv file i created from the API to get the player info and visualize the player column labels"
   ]
  },
  {
   "cell_type": "code",
   "execution_count": 77,
   "metadata": {},
   "outputs": [],
   "source": [
    "players=pd.read_csv('Players_EPL_17_18.csv')"
   ]
  },
  {
   "cell_type": "markdown",
   "metadata": {},
   "source": [
    "I keep only the 5 predictor variables of interest. Since the player results are aggregated over the season, I create new columns with the averages of the stats. The average is dependent on the number of games played (Started column)"
   ]
  },
  {
   "cell_type": "code",
   "execution_count": 79,
   "metadata": {},
   "outputs": [],
   "source": [
    "players=players[['Name','Assists','Crosses','Interceptions','RedCards','Shots','Team','Started',\n",
    "                 'Position']]\n",
    "players[['Assists']]=players[['Assists']].astype('int')\n",
    "players['Assists_Avg']=players['Assists']/players['Started']\n",
    "players[['Crosses']]=players[['Crosses']].astype('int')\n",
    "players['Crosses_Avg']=players['Crosses']/players['Started']\n",
    "players[['Interceptions']]=players[['Interceptions']].astype('int')\n",
    "players['Interceptions_Avg']=players['Interceptions']/players['Started']\n",
    "players[['RedCards']]=players[['RedCards']].astype('int')\n",
    "players['RedCards_Avg']=players['RedCards']/players['Started']\n",
    "players[['Shots']]=players[['Shots']].astype('int')\n",
    "players['Shots_Avg']=players['Shots']/players['Started']\n"
   ]
  },
  {
   "cell_type": "markdown",
   "metadata": {},
   "source": [
    "I do some data cleaning in this section. I remove any players with null values or any players that have not played at least 10 games in the season"
   ]
  },
  {
   "cell_type": "code",
   "execution_count": 80,
   "metadata": {},
   "outputs": [],
   "source": [
    "players=players.dropna(axis=0,how='any')\n",
    "players_final=players.loc[players['Started']>10]"
   ]
  },
  {
   "cell_type": "markdown",
   "metadata": {},
   "source": [
    "I save the data to a csv for later use"
   ]
  },
  {
   "cell_type": "code",
   "execution_count": 81,
   "metadata": {},
   "outputs": [],
   "source": [
    "players_final.to_csv('players_final.csv')"
   ]
  },
  {
   "cell_type": "code",
   "execution_count": 82,
   "metadata": {},
   "outputs": [
    {
     "data": {
      "text/html": [
       "<div>\n",
       "<style scoped>\n",
       "    .dataframe tbody tr th:only-of-type {\n",
       "        vertical-align: middle;\n",
       "    }\n",
       "\n",
       "    .dataframe tbody tr th {\n",
       "        vertical-align: top;\n",
       "    }\n",
       "\n",
       "    .dataframe thead th {\n",
       "        text-align: right;\n",
       "    }\n",
       "</style>\n",
       "<table border=\"1\" class=\"dataframe\">\n",
       "  <thead>\n",
       "    <tr style=\"text-align: right;\">\n",
       "      <th></th>\n",
       "      <th>Name</th>\n",
       "      <th>Assists</th>\n",
       "      <th>Crosses</th>\n",
       "      <th>Interceptions</th>\n",
       "      <th>RedCards</th>\n",
       "      <th>Shots</th>\n",
       "      <th>Team</th>\n",
       "      <th>Started</th>\n",
       "      <th>Position</th>\n",
       "      <th>Assists_Avg</th>\n",
       "      <th>Crosses_Avg</th>\n",
       "      <th>Interceptions_Avg</th>\n",
       "      <th>RedCards_Avg</th>\n",
       "      <th>Shots_Avg</th>\n",
       "    </tr>\n",
       "  </thead>\n",
       "  <tbody>\n",
       "    <tr>\n",
       "      <th>1</th>\n",
       "      <td>Nacho Monreal</td>\n",
       "      <td>2</td>\n",
       "      <td>37</td>\n",
       "      <td>66</td>\n",
       "      <td>0</td>\n",
       "      <td>23</td>\n",
       "      <td>Arsenal FC</td>\n",
       "      <td>26</td>\n",
       "      <td>D</td>\n",
       "      <td>0.076923</td>\n",
       "      <td>1.423077</td>\n",
       "      <td>2.538462</td>\n",
       "      <td>0.0</td>\n",
       "      <td>0.884615</td>\n",
       "    </tr>\n",
       "    <tr>\n",
       "      <th>2</th>\n",
       "      <td>Alex Oxlade-Chamberlain</td>\n",
       "      <td>7</td>\n",
       "      <td>95</td>\n",
       "      <td>34</td>\n",
       "      <td>0</td>\n",
       "      <td>53</td>\n",
       "      <td>Liverpool FC</td>\n",
       "      <td>17</td>\n",
       "      <td>M</td>\n",
       "      <td>0.411765</td>\n",
       "      <td>5.588235</td>\n",
       "      <td>2.000000</td>\n",
       "      <td>0.0</td>\n",
       "      <td>3.117647</td>\n",
       "    </tr>\n",
       "    <tr>\n",
       "      <th>3</th>\n",
       "      <td>Aaron Ramsey</td>\n",
       "      <td>7</td>\n",
       "      <td>16</td>\n",
       "      <td>24</td>\n",
       "      <td>0</td>\n",
       "      <td>59</td>\n",
       "      <td>Arsenal FC</td>\n",
       "      <td>19</td>\n",
       "      <td>M</td>\n",
       "      <td>0.368421</td>\n",
       "      <td>0.842105</td>\n",
       "      <td>1.263158</td>\n",
       "      <td>0.0</td>\n",
       "      <td>3.105263</td>\n",
       "    </tr>\n",
       "    <tr>\n",
       "      <th>4</th>\n",
       "      <td>Héctor Bellerín</td>\n",
       "      <td>1</td>\n",
       "      <td>69</td>\n",
       "      <td>29</td>\n",
       "      <td>0</td>\n",
       "      <td>31</td>\n",
       "      <td>Arsenal FC</td>\n",
       "      <td>32</td>\n",
       "      <td>D</td>\n",
       "      <td>0.031250</td>\n",
       "      <td>2.156250</td>\n",
       "      <td>0.906250</td>\n",
       "      <td>0.0</td>\n",
       "      <td>0.968750</td>\n",
       "    </tr>\n",
       "    <tr>\n",
       "      <th>5</th>\n",
       "      <td>Laurent Koscielny</td>\n",
       "      <td>0</td>\n",
       "      <td>6</td>\n",
       "      <td>68</td>\n",
       "      <td>0</td>\n",
       "      <td>10</td>\n",
       "      <td>Arsenal FC</td>\n",
       "      <td>25</td>\n",
       "      <td>D</td>\n",
       "      <td>0.000000</td>\n",
       "      <td>0.240000</td>\n",
       "      <td>2.720000</td>\n",
       "      <td>0.0</td>\n",
       "      <td>0.400000</td>\n",
       "    </tr>\n",
       "  </tbody>\n",
       "</table>\n",
       "</div>"
      ],
      "text/plain": [
       "                      Name  Assists  Crosses  Interceptions  RedCards  Shots  \\\n",
       "1            Nacho Monreal        2       37             66         0     23   \n",
       "2  Alex Oxlade-Chamberlain        7       95             34         0     53   \n",
       "3             Aaron Ramsey        7       16             24         0     59   \n",
       "4          Héctor Bellerín        1       69             29         0     31   \n",
       "5        Laurent Koscielny        0        6             68         0     10   \n",
       "\n",
       "           Team  Started Position  Assists_Avg  Crosses_Avg  \\\n",
       "1    Arsenal FC       26        D     0.076923     1.423077   \n",
       "2  Liverpool FC       17        M     0.411765     5.588235   \n",
       "3    Arsenal FC       19        M     0.368421     0.842105   \n",
       "4    Arsenal FC       32        D     0.031250     2.156250   \n",
       "5    Arsenal FC       25        D     0.000000     0.240000   \n",
       "\n",
       "   Interceptions_Avg  RedCards_Avg  Shots_Avg  \n",
       "1           2.538462           0.0   0.884615  \n",
       "2           2.000000           0.0   3.117647  \n",
       "3           1.263158           0.0   3.105263  \n",
       "4           0.906250           0.0   0.968750  \n",
       "5           2.720000           0.0   0.400000  "
      ]
     },
     "execution_count": 82,
     "metadata": {},
     "output_type": "execute_result"
    }
   ],
   "source": [
    "players_final.head()"
   ]
  },
  {
   "cell_type": "markdown",
   "metadata": {},
   "source": [
    "I write a function which is essentially the logit model and calculate the probability of success for each player."
   ]
  },
  {
   "cell_type": "code",
   "execution_count": 83,
   "metadata": {},
   "outputs": [],
   "source": [
    "def points(a,b,c,d,e):\n",
    "    A=(exp(1.0756*a - 0.0517*b - 0.05*c - 1.2381*d + 0.123*e)/\n",
    "    (1 + exp((1.0756*a - 0.0517*b - 0.05*c - 1.2381*d + 0.123*e))))\n",
    "    return A"
   ]
  },
  {
   "cell_type": "markdown",
   "metadata": {},
   "source": [
    "I run the points function on the players data"
   ]
  },
  {
   "cell_type": "code",
   "execution_count": 84,
   "metadata": {},
   "outputs": [],
   "source": [
    "players_final['Points']=points(players_final.Assists_Avg,players_final.Crosses_Avg,players_final.Interceptions_Avg,\n",
    "       players_final.RedCards_Avg,players_final.Shots_Avg)"
   ]
  },
  {
   "cell_type": "markdown",
   "metadata": {},
   "source": [
    "I store the Name, Position, Team and Points of the players in a new dataframe and sort them by points"
   ]
  },
  {
   "cell_type": "code",
   "execution_count": 85,
   "metadata": {},
   "outputs": [],
   "source": [
    "Player_Model=players_final[['Name','Position','Team','Points']].sort_values(by=['Points'],ascending=False)"
   ]
  },
  {
   "cell_type": "markdown",
   "metadata": {},
   "source": [
    "Best 10 Attackers of the 2017-18 Season. I am fascinated to see Benteke on this list and Rashford as the best Man United attacker!"
   ]
  },
  {
   "cell_type": "code",
   "execution_count": 86,
   "metadata": {},
   "outputs": [
    {
     "data": {
      "text/html": [
       "<div>\n",
       "<style scoped>\n",
       "    .dataframe tbody tr th:only-of-type {\n",
       "        vertical-align: middle;\n",
       "    }\n",
       "\n",
       "    .dataframe tbody tr th {\n",
       "        vertical-align: top;\n",
       "    }\n",
       "\n",
       "    .dataframe thead th {\n",
       "        text-align: right;\n",
       "    }\n",
       "</style>\n",
       "<table border=\"1\" class=\"dataframe\">\n",
       "  <thead>\n",
       "    <tr style=\"text-align: right;\">\n",
       "      <th></th>\n",
       "      <th>Name</th>\n",
       "      <th>Position</th>\n",
       "      <th>Team</th>\n",
       "      <th>Points</th>\n",
       "    </tr>\n",
       "  </thead>\n",
       "  <tbody>\n",
       "    <tr>\n",
       "      <th>97</th>\n",
       "      <td>Sergio Agüero</td>\n",
       "      <td>A</td>\n",
       "      <td>Manchester City FC</td>\n",
       "      <td>0.696105</td>\n",
       "    </tr>\n",
       "    <tr>\n",
       "      <th>100</th>\n",
       "      <td>Raheem Sterling</td>\n",
       "      <td>A</td>\n",
       "      <td>Manchester City FC</td>\n",
       "      <td>0.693325</td>\n",
       "    </tr>\n",
       "    <tr>\n",
       "      <th>326</th>\n",
       "      <td>Harry Kane</td>\n",
       "      <td>A</td>\n",
       "      <td>Tottenham Hotspur FC</td>\n",
       "      <td>0.682254</td>\n",
       "    </tr>\n",
       "    <tr>\n",
       "      <th>194</th>\n",
       "      <td>Álvaro Morata</td>\n",
       "      <td>A</td>\n",
       "      <td>Chelsea FC</td>\n",
       "      <td>0.662099</td>\n",
       "    </tr>\n",
       "    <tr>\n",
       "      <th>220</th>\n",
       "      <td>Gabriel Jesus</td>\n",
       "      <td>A</td>\n",
       "      <td>Manchester City FC</td>\n",
       "      <td>0.635655</td>\n",
       "    </tr>\n",
       "    <tr>\n",
       "      <th>92</th>\n",
       "      <td>Christian Benteke</td>\n",
       "      <td>A</td>\n",
       "      <td>Crystal Palace FC</td>\n",
       "      <td>0.630696</td>\n",
       "    </tr>\n",
       "    <tr>\n",
       "      <th>309</th>\n",
       "      <td>Marcus Rashford</td>\n",
       "      <td>A</td>\n",
       "      <td>Manchester United FC</td>\n",
       "      <td>0.630633</td>\n",
       "    </tr>\n",
       "    <tr>\n",
       "      <th>308</th>\n",
       "      <td>Anthony Martial</td>\n",
       "      <td>A</td>\n",
       "      <td>Manchester United FC</td>\n",
       "      <td>0.628193</td>\n",
       "    </tr>\n",
       "    <tr>\n",
       "      <th>294</th>\n",
       "      <td>Romelu Lukaku</td>\n",
       "      <td>A</td>\n",
       "      <td>Manchester United FC</td>\n",
       "      <td>0.626859</td>\n",
       "    </tr>\n",
       "    <tr>\n",
       "      <th>10</th>\n",
       "      <td>Danny Welbeck</td>\n",
       "      <td>A</td>\n",
       "      <td>Arsenal FC</td>\n",
       "      <td>0.623708</td>\n",
       "    </tr>\n",
       "  </tbody>\n",
       "</table>\n",
       "</div>"
      ],
      "text/plain": [
       "                  Name Position                  Team    Points\n",
       "97       Sergio Agüero        A    Manchester City FC  0.696105\n",
       "100    Raheem Sterling        A    Manchester City FC  0.693325\n",
       "326         Harry Kane        A  Tottenham Hotspur FC  0.682254\n",
       "194      Álvaro Morata        A            Chelsea FC  0.662099\n",
       "220      Gabriel Jesus        A    Manchester City FC  0.635655\n",
       "92   Christian Benteke        A     Crystal Palace FC  0.630696\n",
       "309    Marcus Rashford        A  Manchester United FC  0.630633\n",
       "308    Anthony Martial        A  Manchester United FC  0.628193\n",
       "294      Romelu Lukaku        A  Manchester United FC  0.626859\n",
       "10       Danny Welbeck        A            Arsenal FC  0.623708"
      ]
     },
     "execution_count": 86,
     "metadata": {},
     "output_type": "execute_result"
    }
   ],
   "source": [
    "Player_Model.loc[Player_Model['Position']==\"A\"].head(10)"
   ]
  },
  {
   "cell_type": "markdown",
   "metadata": {},
   "source": [
    "Best 10 Midfielders of the 2017-18 Season. As expected, the best players show up, but its interesting to see Alex Iwobi and Dominic Calvert-Lewin on this list."
   ]
  },
  {
   "cell_type": "code",
   "execution_count": 87,
   "metadata": {},
   "outputs": [
    {
     "data": {
      "text/html": [
       "<div>\n",
       "<style scoped>\n",
       "    .dataframe tbody tr th:only-of-type {\n",
       "        vertical-align: middle;\n",
       "    }\n",
       "\n",
       "    .dataframe tbody tr th {\n",
       "        vertical-align: top;\n",
       "    }\n",
       "\n",
       "    .dataframe thead th {\n",
       "        text-align: right;\n",
       "    }\n",
       "</style>\n",
       "<table border=\"1\" class=\"dataframe\">\n",
       "  <thead>\n",
       "    <tr style=\"text-align: right;\">\n",
       "      <th></th>\n",
       "      <th>Name</th>\n",
       "      <th>Position</th>\n",
       "      <th>Team</th>\n",
       "      <th>Points</th>\n",
       "    </tr>\n",
       "  </thead>\n",
       "  <tbody>\n",
       "    <tr>\n",
       "      <th>439</th>\n",
       "      <td>Philippe Coutinho</td>\n",
       "      <td>M</td>\n",
       "      <td>Liverpool FC</td>\n",
       "      <td>0.683739</td>\n",
       "    </tr>\n",
       "    <tr>\n",
       "      <th>190</th>\n",
       "      <td>Mohamed Salah</td>\n",
       "      <td>M</td>\n",
       "      <td>Liverpool FC</td>\n",
       "      <td>0.682976</td>\n",
       "    </tr>\n",
       "    <tr>\n",
       "      <th>350</th>\n",
       "      <td>Paul Pogba</td>\n",
       "      <td>M</td>\n",
       "      <td>Manchester United FC</td>\n",
       "      <td>0.675582</td>\n",
       "    </tr>\n",
       "    <tr>\n",
       "      <th>3</th>\n",
       "      <td>Aaron Ramsey</td>\n",
       "      <td>M</td>\n",
       "      <td>Arsenal FC</td>\n",
       "      <td>0.661845</td>\n",
       "    </tr>\n",
       "    <tr>\n",
       "      <th>185</th>\n",
       "      <td>Leroy Sané</td>\n",
       "      <td>M</td>\n",
       "      <td>Manchester City FC</td>\n",
       "      <td>0.660980</td>\n",
       "    </tr>\n",
       "    <tr>\n",
       "      <th>258</th>\n",
       "      <td>Dominic Calvert-Lewin</td>\n",
       "      <td>M</td>\n",
       "      <td>Everton FC</td>\n",
       "      <td>0.642752</td>\n",
       "    </tr>\n",
       "    <tr>\n",
       "      <th>335</th>\n",
       "      <td>Dele Alli</td>\n",
       "      <td>M</td>\n",
       "      <td>Tottenham Hotspur FC</td>\n",
       "      <td>0.640633</td>\n",
       "    </tr>\n",
       "    <tr>\n",
       "      <th>94</th>\n",
       "      <td>David Silva</td>\n",
       "      <td>M</td>\n",
       "      <td>Manchester City FC</td>\n",
       "      <td>0.635636</td>\n",
       "    </tr>\n",
       "    <tr>\n",
       "      <th>349</th>\n",
       "      <td>Henrikh Mkhitaryan</td>\n",
       "      <td>M</td>\n",
       "      <td>Arsenal FC</td>\n",
       "      <td>0.634539</td>\n",
       "    </tr>\n",
       "    <tr>\n",
       "      <th>8</th>\n",
       "      <td>Alex Iwobi</td>\n",
       "      <td>M</td>\n",
       "      <td>Arsenal FC</td>\n",
       "      <td>0.624033</td>\n",
       "    </tr>\n",
       "  </tbody>\n",
       "</table>\n",
       "</div>"
      ],
      "text/plain": [
       "                      Name Position                  Team    Points\n",
       "439      Philippe Coutinho        M          Liverpool FC  0.683739\n",
       "190          Mohamed Salah        M          Liverpool FC  0.682976\n",
       "350             Paul Pogba        M  Manchester United FC  0.675582\n",
       "3             Aaron Ramsey        M            Arsenal FC  0.661845\n",
       "185             Leroy Sané        M    Manchester City FC  0.660980\n",
       "258  Dominic Calvert-Lewin        M            Everton FC  0.642752\n",
       "335              Dele Alli        M  Tottenham Hotspur FC  0.640633\n",
       "94             David Silva        M    Manchester City FC  0.635636\n",
       "349     Henrikh Mkhitaryan        M            Arsenal FC  0.634539\n",
       "8               Alex Iwobi        M            Arsenal FC  0.624033"
      ]
     },
     "execution_count": 87,
     "metadata": {},
     "output_type": "execute_result"
    }
   ],
   "source": [
    "Player_Model.loc[Player_Model['Position']==\"M\"].head(10)"
   ]
  },
  {
   "cell_type": "markdown",
   "metadata": {},
   "source": [
    "Best 10 Defenders of the 2017-18 Season. As expected, teams that defend a lot will have players that show up on this. However, its interesting to see 3 Man City Defenders on this list"
   ]
  },
  {
   "cell_type": "code",
   "execution_count": 88,
   "metadata": {},
   "outputs": [
    {
     "data": {
      "text/html": [
       "<div>\n",
       "<style scoped>\n",
       "    .dataframe tbody tr th:only-of-type {\n",
       "        vertical-align: middle;\n",
       "    }\n",
       "\n",
       "    .dataframe tbody tr th {\n",
       "        vertical-align: top;\n",
       "    }\n",
       "\n",
       "    .dataframe thead th {\n",
       "        text-align: right;\n",
       "    }\n",
       "</style>\n",
       "<table border=\"1\" class=\"dataframe\">\n",
       "  <thead>\n",
       "    <tr style=\"text-align: right;\">\n",
       "      <th></th>\n",
       "      <th>Name</th>\n",
       "      <th>Position</th>\n",
       "      <th>Team</th>\n",
       "      <th>Points</th>\n",
       "    </tr>\n",
       "  </thead>\n",
       "  <tbody>\n",
       "    <tr>\n",
       "      <th>203</th>\n",
       "      <td>Danilo</td>\n",
       "      <td>D</td>\n",
       "      <td>Manchester City FC</td>\n",
       "      <td>0.547819</td>\n",
       "    </tr>\n",
       "    <tr>\n",
       "      <th>35</th>\n",
       "      <td>Wilfred Ndidi</td>\n",
       "      <td>D</td>\n",
       "      <td>Leicester City FC</td>\n",
       "      <td>0.539823</td>\n",
       "    </tr>\n",
       "    <tr>\n",
       "      <th>30</th>\n",
       "      <td>Sead Kolašinac</td>\n",
       "      <td>D</td>\n",
       "      <td>Arsenal FC</td>\n",
       "      <td>0.536282</td>\n",
       "    </tr>\n",
       "    <tr>\n",
       "      <th>395</th>\n",
       "      <td>Cheikhou Kouyaté</td>\n",
       "      <td>D</td>\n",
       "      <td>West Ham United FC</td>\n",
       "      <td>0.529894</td>\n",
       "    </tr>\n",
       "    <tr>\n",
       "      <th>154</th>\n",
       "      <td>Kyle Walker</td>\n",
       "      <td>D</td>\n",
       "      <td>Manchester City FC</td>\n",
       "      <td>0.528242</td>\n",
       "    </tr>\n",
       "    <tr>\n",
       "      <th>359</th>\n",
       "      <td>Florian Lejeune</td>\n",
       "      <td>D</td>\n",
       "      <td>Newcastle United FC</td>\n",
       "      <td>0.526372</td>\n",
       "    </tr>\n",
       "    <tr>\n",
       "      <th>251</th>\n",
       "      <td>Kevin Long</td>\n",
       "      <td>D</td>\n",
       "      <td>Burnley FC</td>\n",
       "      <td>0.526026</td>\n",
       "    </tr>\n",
       "    <tr>\n",
       "      <th>93</th>\n",
       "      <td>Vincent Kompany</td>\n",
       "      <td>D</td>\n",
       "      <td>Manchester City FC</td>\n",
       "      <td>0.520389</td>\n",
       "    </tr>\n",
       "    <tr>\n",
       "      <th>131</th>\n",
       "      <td>Ryan Shawcross</td>\n",
       "      <td>D</td>\n",
       "      <td>Stoke City FC</td>\n",
       "      <td>0.520214</td>\n",
       "    </tr>\n",
       "    <tr>\n",
       "      <th>332</th>\n",
       "      <td>Eric Dier</td>\n",
       "      <td>D</td>\n",
       "      <td>Tottenham Hotspur FC</td>\n",
       "      <td>0.519618</td>\n",
       "    </tr>\n",
       "  </tbody>\n",
       "</table>\n",
       "</div>"
      ],
      "text/plain": [
       "                 Name Position                  Team    Points\n",
       "203            Danilo        D    Manchester City FC  0.547819\n",
       "35      Wilfred Ndidi        D     Leicester City FC  0.539823\n",
       "30     Sead Kolašinac        D            Arsenal FC  0.536282\n",
       "395  Cheikhou Kouyaté        D    West Ham United FC  0.529894\n",
       "154       Kyle Walker        D    Manchester City FC  0.528242\n",
       "359   Florian Lejeune        D   Newcastle United FC  0.526372\n",
       "251        Kevin Long        D            Burnley FC  0.526026\n",
       "93    Vincent Kompany        D    Manchester City FC  0.520389\n",
       "131    Ryan Shawcross        D         Stoke City FC  0.520214\n",
       "332         Eric Dier        D  Tottenham Hotspur FC  0.519618"
      ]
     },
     "execution_count": 88,
     "metadata": {},
     "output_type": "execute_result"
    }
   ],
   "source": [
    "Player_Model.loc[Player_Model['Position']==\"D\"].head(10)"
   ]
  },
  {
   "cell_type": "markdown",
   "metadata": {},
   "source": [
    "Conclusion: Using the logit model for player selection, the ideal team formation (4-4-2) barring goalkeeper would be the following.\n",
    "Right Back - Danilo\n",
    "\n",
    "Center Back - Cheikhou Kouyate\n",
    "\n",
    "Center Back - Wilfred Ndidi\n",
    "\n",
    "Left Back - Sead Kolasinac\n",
    "\n",
    "Right Mid - Mo Salah\n",
    "\n",
    "Center Mid - Aaron Ramsey\n",
    "\n",
    "Center Mid - Paul Pogba\n",
    "\n",
    "Left Mid - Phillipe Coutinho\n",
    "\n",
    "Striker - Sergio Aguero\n",
    "\n",
    "Striker - Raheem Sterling\n",
    "    "
   ]
  },
  {
   "cell_type": "markdown",
   "metadata": {},
   "source": [
    "# NEXT STEPS AND APPENDIX"
   ]
  },
  {
   "cell_type": "markdown",
   "metadata": {},
   "source": [
    "### Now I'll try to predict the number of goals allowed as a discrete"
   ]
  },
  {
   "cell_type": "markdown",
   "metadata": {},
   "source": [
    "The goal here is to see if I can accurately predict the number of goals that a team will concede. For this I use:\n",
    "\n",
    "1. Multinomial Regression\n",
    "2. Random Forest"
   ]
  },
  {
   "cell_type": "markdown",
   "metadata": {},
   "source": [
    "The predictor variable in this case is different. I utilize the goal against unique label which has a different class label depending on the number of goals conceded:\n",
    "    1. 0 for 0 conceded\n",
    "    2. 1 for 1 conceded\n",
    "    3. 2 for 2 conceded\n",
    "    4. 3 for 3+ conceded"
   ]
  },
  {
   "cell_type": "code",
   "execution_count": 34,
   "metadata": {},
   "outputs": [],
   "source": [
    "y_unique = big['GA_unique_label']\n",
    "\n",
    "y_final_unique = EPL_2017_2018['GA_unique_label']\n"
   ]
  },
  {
   "cell_type": "markdown",
   "metadata": {},
   "source": [
    "I then run a multinomial regression model since the outcomes are multi-class. I create a train and test dataset using the \"big dataset\" (2015 and 16 seasons data) and then gather predictions. Result are poor, only around 38% accuracy for the number of goals scored predicted. Random guessing would be a 25% accuracy so this model is better."
   ]
  },
  {
   "cell_type": "code",
   "execution_count": 35,
   "metadata": {},
   "outputs": [
    {
     "name": "stdout",
     "output_type": "stream",
     "text": [
      "0.3631578947368421\n"
     ]
    },
    {
     "data": {
      "text/html": [
       "<div>\n",
       "<style scoped>\n",
       "    .dataframe tbody tr th:only-of-type {\n",
       "        vertical-align: middle;\n",
       "    }\n",
       "\n",
       "    .dataframe tbody tr th {\n",
       "        vertical-align: top;\n",
       "    }\n",
       "\n",
       "    .dataframe thead th {\n",
       "        text-align: right;\n",
       "    }\n",
       "</style>\n",
       "<table border=\"1\" class=\"dataframe\">\n",
       "  <thead>\n",
       "    <tr style=\"text-align: right;\">\n",
       "      <th></th>\n",
       "      <th>Predicted 0</th>\n",
       "      <th>Predicted 1</th>\n",
       "      <th>Predicted 2</th>\n",
       "      <th>Predicted 3</th>\n",
       "    </tr>\n",
       "  </thead>\n",
       "  <tbody>\n",
       "    <tr>\n",
       "      <th>True 0</th>\n",
       "      <td>78</td>\n",
       "      <td>38</td>\n",
       "      <td>2</td>\n",
       "      <td>5</td>\n",
       "    </tr>\n",
       "    <tr>\n",
       "      <th>True 1</th>\n",
       "      <td>63</td>\n",
       "      <td>44</td>\n",
       "      <td>5</td>\n",
       "      <td>5</td>\n",
       "    </tr>\n",
       "    <tr>\n",
       "      <th>True 2</th>\n",
       "      <td>33</td>\n",
       "      <td>35</td>\n",
       "      <td>2</td>\n",
       "      <td>7</td>\n",
       "    </tr>\n",
       "    <tr>\n",
       "      <th>True 3</th>\n",
       "      <td>26</td>\n",
       "      <td>22</td>\n",
       "      <td>1</td>\n",
       "      <td>14</td>\n",
       "    </tr>\n",
       "  </tbody>\n",
       "</table>\n",
       "</div>"
      ],
      "text/plain": [
       "        Predicted 0  Predicted 1  Predicted 2  Predicted 3\n",
       "True 0           78           38            2            5\n",
       "True 1           63           44            5            5\n",
       "True 2           33           35            2            7\n",
       "True 3           26           22            1           14"
      ]
     },
     "execution_count": 35,
     "metadata": {},
     "output_type": "execute_result"
    }
   ],
   "source": [
    "X_train, X_test, y_train, y_test = train_test_split(X1_big_new, y_unique, stratify=y_unique)\n",
    "multi=linear_model.LogisticRegression(multi_class='multinomial', solver='newton-cg')\n",
    "multi.fit(X_train,y_train)\n",
    "y_predict = multi.predict(X_test)\n",
    "\n",
    "from sklearn.metrics import accuracy_score\n",
    "print(accuracy_score(y_test, y_predict))\n",
    "\n",
    "pd.DataFrame(\n",
    "    confusion_matrix(y_test, y_predict),\n",
    "    columns=['Predicted 0', 'Predicted 1','Predicted 2','Predicted 3'],\n",
    "    index=['True 0', 'True 1','True 2','True 3'])"
   ]
  },
  {
   "cell_type": "markdown",
   "metadata": {},
   "source": [
    "I then run a random forest since the outcomes are multi-class. I create a train and test dataset using the \"big dataset\" (2015 and 16 seasons data) and then gather predictions. Result are poor, only around 31% accuracy for the number of goals scored predicted. "
   ]
  },
  {
   "cell_type": "code",
   "execution_count": 36,
   "metadata": {},
   "outputs": [
    {
     "name": "stdout",
     "output_type": "stream",
     "text": [
      "0.3236842105263158\n"
     ]
    },
    {
     "data": {
      "text/html": [
       "<div>\n",
       "<style scoped>\n",
       "    .dataframe tbody tr th:only-of-type {\n",
       "        vertical-align: middle;\n",
       "    }\n",
       "\n",
       "    .dataframe tbody tr th {\n",
       "        vertical-align: top;\n",
       "    }\n",
       "\n",
       "    .dataframe thead th {\n",
       "        text-align: right;\n",
       "    }\n",
       "</style>\n",
       "<table border=\"1\" class=\"dataframe\">\n",
       "  <thead>\n",
       "    <tr style=\"text-align: right;\">\n",
       "      <th></th>\n",
       "      <th>Predicted 0</th>\n",
       "      <th>Predicted 1</th>\n",
       "      <th>Predicted 2</th>\n",
       "      <th>Predicted 3</th>\n",
       "    </tr>\n",
       "  </thead>\n",
       "  <tbody>\n",
       "    <tr>\n",
       "      <th>True 0</th>\n",
       "      <td>58</td>\n",
       "      <td>49</td>\n",
       "      <td>9</td>\n",
       "      <td>7</td>\n",
       "    </tr>\n",
       "    <tr>\n",
       "      <th>True 1</th>\n",
       "      <td>46</td>\n",
       "      <td>45</td>\n",
       "      <td>18</td>\n",
       "      <td>8</td>\n",
       "    </tr>\n",
       "    <tr>\n",
       "      <th>True 2</th>\n",
       "      <td>30</td>\n",
       "      <td>29</td>\n",
       "      <td>9</td>\n",
       "      <td>9</td>\n",
       "    </tr>\n",
       "    <tr>\n",
       "      <th>True 3</th>\n",
       "      <td>21</td>\n",
       "      <td>26</td>\n",
       "      <td>5</td>\n",
       "      <td>11</td>\n",
       "    </tr>\n",
       "  </tbody>\n",
       "</table>\n",
       "</div>"
      ],
      "text/plain": [
       "        Predicted 0  Predicted 1  Predicted 2  Predicted 3\n",
       "True 0           58           49            9            7\n",
       "True 1           46           45           18            8\n",
       "True 2           30           29            9            9\n",
       "True 3           21           26            5           11"
      ]
     },
     "execution_count": 36,
     "metadata": {},
     "output_type": "execute_result"
    }
   ],
   "source": [
    "X_train, X_test, y_train, y_test = train_test_split(X1_big_new, y_unique,stratify=y_unique)\n",
    "forest2 = RandomForestClassifier(n_estimators=50, max_depth=100, random_state=42)\n",
    "forest2.fit(X_train,y_train)\n",
    "y_predict = forest2.predict(X_test)\n",
    "\n",
    "from sklearn.metrics import accuracy_score\n",
    "print(accuracy_score(y_test, y_predict))\n",
    "\n",
    "pd.DataFrame(\n",
    "    confusion_matrix(y_test, y_predict),\n",
    "    columns=['Predicted 0', 'Predicted 1','Predicted 2','Predicted 3'],\n",
    "    index=['True 0', 'True 1','True 2','True 3'])"
   ]
  },
  {
   "cell_type": "markdown",
   "metadata": {},
   "source": [
    "I then run the multinomial regression model I created to test the model predictions versus the real outcomes. I am able to predict with a 40% accuracy. This is better than random guessing of 25% accuracy. "
   ]
  },
  {
   "cell_type": "code",
   "execution_count": 37,
   "metadata": {},
   "outputs": [
    {
     "name": "stdout",
     "output_type": "stream",
     "text": [
      "0.3926553672316384\n"
     ]
    },
    {
     "data": {
      "text/html": [
       "<div>\n",
       "<style scoped>\n",
       "    .dataframe tbody tr th:only-of-type {\n",
       "        vertical-align: middle;\n",
       "    }\n",
       "\n",
       "    .dataframe tbody tr th {\n",
       "        vertical-align: top;\n",
       "    }\n",
       "\n",
       "    .dataframe thead th {\n",
       "        text-align: right;\n",
       "    }\n",
       "</style>\n",
       "<table border=\"1\" class=\"dataframe\">\n",
       "  <thead>\n",
       "    <tr style=\"text-align: right;\">\n",
       "      <th></th>\n",
       "      <th>Predicted 0</th>\n",
       "      <th>Predicted 1</th>\n",
       "      <th>Predicted 2</th>\n",
       "      <th>Predicted 3</th>\n",
       "    </tr>\n",
       "  </thead>\n",
       "  <tbody>\n",
       "    <tr>\n",
       "      <th>True 0</th>\n",
       "      <td>119</td>\n",
       "      <td>67</td>\n",
       "      <td>3</td>\n",
       "      <td>18</td>\n",
       "    </tr>\n",
       "    <tr>\n",
       "      <th>True 1</th>\n",
       "      <td>93</td>\n",
       "      <td>113</td>\n",
       "      <td>3</td>\n",
       "      <td>25</td>\n",
       "    </tr>\n",
       "    <tr>\n",
       "      <th>True 2</th>\n",
       "      <td>59</td>\n",
       "      <td>69</td>\n",
       "      <td>3</td>\n",
       "      <td>19</td>\n",
       "    </tr>\n",
       "    <tr>\n",
       "      <th>True 3</th>\n",
       "      <td>30</td>\n",
       "      <td>43</td>\n",
       "      <td>1</td>\n",
       "      <td>43</td>\n",
       "    </tr>\n",
       "  </tbody>\n",
       "</table>\n",
       "</div>"
      ],
      "text/plain": [
       "        Predicted 0  Predicted 1  Predicted 2  Predicted 3\n",
       "True 0          119           67            3           18\n",
       "True 1           93          113            3           25\n",
       "True 2           59           69            3           19\n",
       "True 3           30           43            1           43"
      ]
     },
     "execution_count": 37,
     "metadata": {},
     "output_type": "execute_result"
    }
   ],
   "source": [
    "multi=linear_model.LogisticRegression(multi_class='multinomial', solver='newton-cg')\n",
    "multi.fit(X1_big_new,y_unique)\n",
    "y_predict = multi.predict(X1_final)\n",
    "\n",
    "from sklearn.metrics import accuracy_score\n",
    "print(accuracy_score(y_final_unique, y_predict))\n",
    "\n",
    "pd.DataFrame(\n",
    "    confusion_matrix(y_final_unique, y_predict),\n",
    "    columns=['Predicted 0', 'Predicted 1','Predicted 2','Predicted 3'],\n",
    "    index=['True 0', 'True 1','True 2','True 3'])"
   ]
  },
  {
   "cell_type": "code",
   "execution_count": 38,
   "metadata": {},
   "outputs": [
    {
     "name": "stdout",
     "output_type": "stream",
     "text": [
      "             precision    recall  f1-score   support\n",
      "\n",
      "          0       0.40      0.57      0.47       207\n",
      "          1       0.39      0.48      0.43       234\n",
      "          2       0.30      0.02      0.04       150\n",
      "          3       0.41      0.37      0.39       117\n",
      "\n",
      "avg / total       0.37      0.39      0.35       708\n",
      "\n"
     ]
    }
   ],
   "source": [
    "from sklearn.metrics import classification_report\n",
    "print(classification_report(y_final_unique, y_predict))"
   ]
  },
  {
   "cell_type": "markdown",
   "metadata": {},
   "source": [
    "I then run the random forest model I created to test the model predictions versus the real outcomes. I am able to predict with a 33% accuracy. This is better than random guessing of 25% accuracy. "
   ]
  },
  {
   "cell_type": "code",
   "execution_count": 39,
   "metadata": {},
   "outputs": [
    {
     "name": "stdout",
     "output_type": "stream",
     "text": [
      "0.326271186440678\n"
     ]
    },
    {
     "data": {
      "text/html": [
       "<div>\n",
       "<style scoped>\n",
       "    .dataframe tbody tr th:only-of-type {\n",
       "        vertical-align: middle;\n",
       "    }\n",
       "\n",
       "    .dataframe tbody tr th {\n",
       "        vertical-align: top;\n",
       "    }\n",
       "\n",
       "    .dataframe thead th {\n",
       "        text-align: right;\n",
       "    }\n",
       "</style>\n",
       "<table border=\"1\" class=\"dataframe\">\n",
       "  <thead>\n",
       "    <tr style=\"text-align: right;\">\n",
       "      <th></th>\n",
       "      <th>Predicted 0</th>\n",
       "      <th>Predicted 1</th>\n",
       "      <th>Predicted 2</th>\n",
       "      <th>Predicted 3</th>\n",
       "    </tr>\n",
       "  </thead>\n",
       "  <tbody>\n",
       "    <tr>\n",
       "      <th>True 0</th>\n",
       "      <td>98</td>\n",
       "      <td>63</td>\n",
       "      <td>31</td>\n",
       "      <td>15</td>\n",
       "    </tr>\n",
       "    <tr>\n",
       "      <th>True 1</th>\n",
       "      <td>90</td>\n",
       "      <td>83</td>\n",
       "      <td>32</td>\n",
       "      <td>29</td>\n",
       "    </tr>\n",
       "    <tr>\n",
       "      <th>True 2</th>\n",
       "      <td>42</td>\n",
       "      <td>56</td>\n",
       "      <td>31</td>\n",
       "      <td>21</td>\n",
       "    </tr>\n",
       "    <tr>\n",
       "      <th>True 3</th>\n",
       "      <td>29</td>\n",
       "      <td>44</td>\n",
       "      <td>25</td>\n",
       "      <td>19</td>\n",
       "    </tr>\n",
       "  </tbody>\n",
       "</table>\n",
       "</div>"
      ],
      "text/plain": [
       "        Predicted 0  Predicted 1  Predicted 2  Predicted 3\n",
       "True 0           98           63           31           15\n",
       "True 1           90           83           32           29\n",
       "True 2           42           56           31           21\n",
       "True 3           29           44           25           19"
      ]
     },
     "execution_count": 39,
     "metadata": {},
     "output_type": "execute_result"
    }
   ],
   "source": [
    "X_train, X_test, y_train, y_test = train_test_split(X1_big_new, y_unique,stratify=y_unique)\n",
    "forest2 = RandomForestClassifier(n_estimators=50, max_depth=100, random_state=42,criterion='entropy')\n",
    "forest2.fit(X1_big_new,y_unique)\n",
    "y_predict = forest2.predict(X1_final)\n",
    "\n",
    "from sklearn.metrics import accuracy_score\n",
    "print(accuracy_score(y_final_unique, y_predict))\n",
    "\n",
    "pd.DataFrame(\n",
    "    confusion_matrix(y_final_unique, y_predict),\n",
    "    columns=['Predicted 0', 'Predicted 1','Predicted 2','Predicted 3'],\n",
    "    index=['True 0', 'True 1','True 2','True 3'])"
   ]
  },
  {
   "cell_type": "markdown",
   "metadata": {},
   "source": [
    "The conclusion from this analysis is that the multinomial regression is a much better model to predict the \"actual\" number of goals allowed. However the accuracy is only 40%. The accuracy is different for different classes however."
   ]
  },
  {
   "cell_type": "markdown",
   "metadata": {},
   "source": [
    "### Now I'll try to predict the number of goals scored "
   ]
  },
  {
   "cell_type": "markdown",
   "metadata": {},
   "source": [
    "I also wanted to explore if I could explore whether I could predict the outcome for the number of goals. I use multinomial logistic regression and random forest to determine the outcome. For this, I use a new label for the y called the \"goal_label\" which I created earlier.   "
   ]
  },
  {
   "cell_type": "code",
   "execution_count": 40,
   "metadata": {},
   "outputs": [],
   "source": [
    "y_goals = big['goal_label']\n",
    "\n",
    "y_final_goals = EPL_2017_2018['goal_label']"
   ]
  },
  {
   "cell_type": "markdown",
   "metadata": {},
   "source": [
    "I run the multinomial regression model on the test and compare outcomes with the training data."
   ]
  },
  {
   "cell_type": "code",
   "execution_count": 41,
   "metadata": {},
   "outputs": [
    {
     "name": "stdout",
     "output_type": "stream",
     "text": [
      "0.4421052631578947\n"
     ]
    },
    {
     "data": {
      "text/html": [
       "<div>\n",
       "<style scoped>\n",
       "    .dataframe tbody tr th:only-of-type {\n",
       "        vertical-align: middle;\n",
       "    }\n",
       "\n",
       "    .dataframe tbody tr th {\n",
       "        vertical-align: top;\n",
       "    }\n",
       "\n",
       "    .dataframe thead th {\n",
       "        text-align: right;\n",
       "    }\n",
       "</style>\n",
       "<table border=\"1\" class=\"dataframe\">\n",
       "  <thead>\n",
       "    <tr style=\"text-align: right;\">\n",
       "      <th></th>\n",
       "      <th>Predicted 0</th>\n",
       "      <th>Predicted 1</th>\n",
       "      <th>Predicted 2</th>\n",
       "      <th>Predicted 3</th>\n",
       "    </tr>\n",
       "  </thead>\n",
       "  <tbody>\n",
       "    <tr>\n",
       "      <th>True 0</th>\n",
       "      <td>73</td>\n",
       "      <td>43</td>\n",
       "      <td>0</td>\n",
       "      <td>3</td>\n",
       "    </tr>\n",
       "    <tr>\n",
       "      <th>True 1</th>\n",
       "      <td>45</td>\n",
       "      <td>53</td>\n",
       "      <td>6</td>\n",
       "      <td>13</td>\n",
       "    </tr>\n",
       "    <tr>\n",
       "      <th>True 2</th>\n",
       "      <td>14</td>\n",
       "      <td>42</td>\n",
       "      <td>6</td>\n",
       "      <td>17</td>\n",
       "    </tr>\n",
       "    <tr>\n",
       "      <th>True 3</th>\n",
       "      <td>1</td>\n",
       "      <td>22</td>\n",
       "      <td>6</td>\n",
       "      <td>36</td>\n",
       "    </tr>\n",
       "  </tbody>\n",
       "</table>\n",
       "</div>"
      ],
      "text/plain": [
       "        Predicted 0  Predicted 1  Predicted 2  Predicted 3\n",
       "True 0           73           43            0            3\n",
       "True 1           45           53            6           13\n",
       "True 2           14           42            6           17\n",
       "True 3            1           22            6           36"
      ]
     },
     "execution_count": 41,
     "metadata": {},
     "output_type": "execute_result"
    }
   ],
   "source": [
    "X_train, X_test, y_train, y_test = train_test_split(X1_big_new, y_goals, stratify=y_unique)\n",
    "multi=linear_model.LogisticRegression(multi_class='multinomial', solver='newton-cg')\n",
    "multi.fit(X_train,y_train)\n",
    "y_predict = multi.predict(X_test)\n",
    "\n",
    "from sklearn.metrics import accuracy_score\n",
    "print(accuracy_score(y_test, y_predict))\n",
    "\n",
    "pd.DataFrame(\n",
    "    confusion_matrix(y_test, y_predict),\n",
    "    columns=['Predicted 0', 'Predicted 1','Predicted 2','Predicted 3'],\n",
    "    index=['True 0', 'True 1','True 2','True 3'])"
   ]
  },
  {
   "cell_type": "markdown",
   "metadata": {},
   "source": [
    "I run the random forest model on the test and compare outcomes with the training data."
   ]
  },
  {
   "cell_type": "code",
   "execution_count": 42,
   "metadata": {},
   "outputs": [
    {
     "name": "stdout",
     "output_type": "stream",
     "text": [
      "0.4\n"
     ]
    },
    {
     "data": {
      "text/html": [
       "<div>\n",
       "<style scoped>\n",
       "    .dataframe tbody tr th:only-of-type {\n",
       "        vertical-align: middle;\n",
       "    }\n",
       "\n",
       "    .dataframe tbody tr th {\n",
       "        vertical-align: top;\n",
       "    }\n",
       "\n",
       "    .dataframe thead th {\n",
       "        text-align: right;\n",
       "    }\n",
       "</style>\n",
       "<table border=\"1\" class=\"dataframe\">\n",
       "  <thead>\n",
       "    <tr style=\"text-align: right;\">\n",
       "      <th></th>\n",
       "      <th>Predicted 0</th>\n",
       "      <th>Predicted 1</th>\n",
       "      <th>Predicted 2</th>\n",
       "      <th>Predicted 3</th>\n",
       "    </tr>\n",
       "  </thead>\n",
       "  <tbody>\n",
       "    <tr>\n",
       "      <th>True 0</th>\n",
       "      <td>49</td>\n",
       "      <td>37</td>\n",
       "      <td>9</td>\n",
       "      <td>6</td>\n",
       "    </tr>\n",
       "    <tr>\n",
       "      <th>True 1</th>\n",
       "      <td>39</td>\n",
       "      <td>49</td>\n",
       "      <td>11</td>\n",
       "      <td>13</td>\n",
       "    </tr>\n",
       "    <tr>\n",
       "      <th>True 2</th>\n",
       "      <td>18</td>\n",
       "      <td>37</td>\n",
       "      <td>16</td>\n",
       "      <td>20</td>\n",
       "    </tr>\n",
       "    <tr>\n",
       "      <th>True 3</th>\n",
       "      <td>0</td>\n",
       "      <td>17</td>\n",
       "      <td>21</td>\n",
       "      <td>38</td>\n",
       "    </tr>\n",
       "  </tbody>\n",
       "</table>\n",
       "</div>"
      ],
      "text/plain": [
       "        Predicted 0  Predicted 1  Predicted 2  Predicted 3\n",
       "True 0           49           37            9            6\n",
       "True 1           39           49           11           13\n",
       "True 2           18           37           16           20\n",
       "True 3            0           17           21           38"
      ]
     },
     "execution_count": 42,
     "metadata": {},
     "output_type": "execute_result"
    }
   ],
   "source": [
    "X_train, X_test, y_train, y_test = train_test_split(X1_big_new, y_goals,stratify=y_unique)\n",
    "forest2 = RandomForestClassifier(n_estimators=50, max_depth=100, random_state=42,criterion='entropy')\n",
    "forest2.fit(X_train,y_train)\n",
    "y_predict = forest2.predict(X_test)\n",
    "\n",
    "from sklearn.metrics import accuracy_score\n",
    "print(accuracy_score(y_test, y_predict))\n",
    "\n",
    "pd.DataFrame(\n",
    "    confusion_matrix(y_test, y_predict),\n",
    "    columns=['Predicted 0', 'Predicted 1','Predicted 2','Predicted 3'],\n",
    "    index=['True 0', 'True 1','True 2','True 3'])"
   ]
  },
  {
   "cell_type": "markdown",
   "metadata": {},
   "source": [
    "I then run the multinomial model to get the predictions and compare with real outputs for the 2017-18 season.The accuracy is around 48% significantly higher than 25% accuracy on a random guess. "
   ]
  },
  {
   "cell_type": "code",
   "execution_count": 43,
   "metadata": {},
   "outputs": [
    {
     "name": "stdout",
     "output_type": "stream",
     "text": [
      "0.481638418079096\n"
     ]
    },
    {
     "data": {
      "text/html": [
       "<div>\n",
       "<style scoped>\n",
       "    .dataframe tbody tr th:only-of-type {\n",
       "        vertical-align: middle;\n",
       "    }\n",
       "\n",
       "    .dataframe tbody tr th {\n",
       "        vertical-align: top;\n",
       "    }\n",
       "\n",
       "    .dataframe thead th {\n",
       "        text-align: right;\n",
       "    }\n",
       "</style>\n",
       "<table border=\"1\" class=\"dataframe\">\n",
       "  <thead>\n",
       "    <tr style=\"text-align: right;\">\n",
       "      <th></th>\n",
       "      <th>Predicted 0</th>\n",
       "      <th>Predicted 1</th>\n",
       "      <th>Predicted 2</th>\n",
       "      <th>Predicted 3</th>\n",
       "    </tr>\n",
       "  </thead>\n",
       "  <tbody>\n",
       "    <tr>\n",
       "      <th>True 0</th>\n",
       "      <td>142</td>\n",
       "      <td>63</td>\n",
       "      <td>11</td>\n",
       "      <td>3</td>\n",
       "    </tr>\n",
       "    <tr>\n",
       "      <th>True 1</th>\n",
       "      <td>92</td>\n",
       "      <td>95</td>\n",
       "      <td>21</td>\n",
       "      <td>24</td>\n",
       "    </tr>\n",
       "    <tr>\n",
       "      <th>True 2</th>\n",
       "      <td>16</td>\n",
       "      <td>75</td>\n",
       "      <td>27</td>\n",
       "      <td>26</td>\n",
       "    </tr>\n",
       "    <tr>\n",
       "      <th>True 3</th>\n",
       "      <td>0</td>\n",
       "      <td>24</td>\n",
       "      <td>12</td>\n",
       "      <td>77</td>\n",
       "    </tr>\n",
       "  </tbody>\n",
       "</table>\n",
       "</div>"
      ],
      "text/plain": [
       "        Predicted 0  Predicted 1  Predicted 2  Predicted 3\n",
       "True 0          142           63           11            3\n",
       "True 1           92           95           21           24\n",
       "True 2           16           75           27           26\n",
       "True 3            0           24           12           77"
      ]
     },
     "execution_count": 43,
     "metadata": {},
     "output_type": "execute_result"
    }
   ],
   "source": [
    "multi=linear_model.LogisticRegression(multi_class='multinomial', solver='newton-cg')\n",
    "multi.fit(X1_big_new,y_goals)\n",
    "y_predict = multi.predict(X1_final)\n",
    "\n",
    "from sklearn.metrics import accuracy_score\n",
    "print(accuracy_score(y_final_goals, y_predict))\n",
    "\n",
    "pd.DataFrame(\n",
    "    confusion_matrix(y_final_goals, y_predict),\n",
    "    columns=['Predicted 0', 'Predicted 1','Predicted 2','Predicted 3'],\n",
    "    index=['True 0', 'True 1','True 2','True 3'])"
   ]
  },
  {
   "cell_type": "markdown",
   "metadata": {},
   "source": [
    "I then run the random forest model to get the predictions and compare with real outputs for the 2017-18 season.The accuracy is around 44% significantly higher than 25% accuracy on a random guess. "
   ]
  },
  {
   "cell_type": "code",
   "execution_count": 44,
   "metadata": {},
   "outputs": [
    {
     "name": "stdout",
     "output_type": "stream",
     "text": [
      "0.442090395480226\n"
     ]
    },
    {
     "data": {
      "text/html": [
       "<div>\n",
       "<style scoped>\n",
       "    .dataframe tbody tr th:only-of-type {\n",
       "        vertical-align: middle;\n",
       "    }\n",
       "\n",
       "    .dataframe tbody tr th {\n",
       "        vertical-align: top;\n",
       "    }\n",
       "\n",
       "    .dataframe thead th {\n",
       "        text-align: right;\n",
       "    }\n",
       "</style>\n",
       "<table border=\"1\" class=\"dataframe\">\n",
       "  <thead>\n",
       "    <tr style=\"text-align: right;\">\n",
       "      <th></th>\n",
       "      <th>Predicted 0</th>\n",
       "      <th>Predicted 1</th>\n",
       "      <th>Predicted 2</th>\n",
       "      <th>Predicted 3</th>\n",
       "    </tr>\n",
       "  </thead>\n",
       "  <tbody>\n",
       "    <tr>\n",
       "      <th>True 0</th>\n",
       "      <td>126</td>\n",
       "      <td>55</td>\n",
       "      <td>28</td>\n",
       "      <td>10</td>\n",
       "    </tr>\n",
       "    <tr>\n",
       "      <th>True 1</th>\n",
       "      <td>81</td>\n",
       "      <td>86</td>\n",
       "      <td>35</td>\n",
       "      <td>30</td>\n",
       "    </tr>\n",
       "    <tr>\n",
       "      <th>True 2</th>\n",
       "      <td>22</td>\n",
       "      <td>45</td>\n",
       "      <td>35</td>\n",
       "      <td>42</td>\n",
       "    </tr>\n",
       "    <tr>\n",
       "      <th>True 3</th>\n",
       "      <td>1</td>\n",
       "      <td>19</td>\n",
       "      <td>27</td>\n",
       "      <td>66</td>\n",
       "    </tr>\n",
       "  </tbody>\n",
       "</table>\n",
       "</div>"
      ],
      "text/plain": [
       "        Predicted 0  Predicted 1  Predicted 2  Predicted 3\n",
       "True 0          126           55           28           10\n",
       "True 1           81           86           35           30\n",
       "True 2           22           45           35           42\n",
       "True 3            1           19           27           66"
      ]
     },
     "execution_count": 44,
     "metadata": {},
     "output_type": "execute_result"
    }
   ],
   "source": [
    "forest2 = RandomForestClassifier(n_estimators=50, max_depth=100, random_state=42,criterion='entropy')\n",
    "forest2.fit(X1_big_new,y_goals)\n",
    "y_predict = forest2.predict(X1_final)\n",
    "\n",
    "from sklearn.metrics import accuracy_score\n",
    "print(accuracy_score(y_final_goals, y_predict))\n",
    "\n",
    "pd.DataFrame(\n",
    "    confusion_matrix(y_final_goals, y_predict),\n",
    "    columns=['Predicted 0', 'Predicted 1','Predicted 2','Predicted 3'],\n",
    "    index=['True 0', 'True 1','True 2','True 3'])"
   ]
  }
 ],
 "metadata": {
  "kernelspec": {
   "display_name": "Python 3",
   "language": "python",
   "name": "python3"
  },
  "language_info": {
   "codemirror_mode": {
    "name": "ipython",
    "version": 3
   },
   "file_extension": ".py",
   "mimetype": "text/x-python",
   "name": "python",
   "nbconvert_exporter": "python",
   "pygments_lexer": "ipython3",
   "version": "3.6.4"
  }
 },
 "nbformat": 4,
 "nbformat_minor": 2
}
